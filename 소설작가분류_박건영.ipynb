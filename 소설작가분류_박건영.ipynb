{
 "cells": [
  {
   "cell_type": "code",
   "execution_count": 1,
   "id": "54e4819d",
   "metadata": {},
   "outputs": [],
   "source": [
    "# 라이브러리 불러오기\n",
    "\n",
    "import pandas as pd\n",
    "import numpy as np\n",
    "import seaborn as sns\n",
    "import re\n",
    "from sklearn.feature_extraction.text import TfidfVectorizer, CountVectorizer\n",
    "from sklearn.model_selection import train_test_split\n",
    "import tensorflow as tf\n",
    "from tensorflow.keras.preprocessing.text import Tokenizer\n",
    "from tensorflow.keras.preprocessing.sequence import pad_sequences"
   ]
  },
  {
   "cell_type": "code",
   "execution_count": 2,
   "id": "902c74a5",
   "metadata": {},
   "outputs": [
    {
     "data": {
      "text/plain": [
       "((54879, 3), (19617, 2), (19617, 6))"
      ]
     },
     "execution_count": 2,
     "metadata": {},
     "output_type": "execute_result"
    }
   ],
   "source": [
    "# train, test , submission로드하기\n",
    "\n",
    "train = pd.read_csv('C:/Users/parkk/ais7/235670/train.csv')\n",
    "test = pd.read_csv('C:/Users/parkk/ais7/235670/test_x.csv')\n",
    "submission = pd.read_csv('C:/Users/parkk/ais7/235670/sample_submission.csv')\n",
    "\n",
    "train.shape, test.shape, submission.shape"
   ]
  },
  {
   "cell_type": "code",
   "execution_count": 3,
   "id": "395365f7",
   "metadata": {},
   "outputs": [
    {
     "data": {
      "text/html": [
       "<div>\n",
       "<style scoped>\n",
       "    .dataframe tbody tr th:only-of-type {\n",
       "        vertical-align: middle;\n",
       "    }\n",
       "\n",
       "    .dataframe tbody tr th {\n",
       "        vertical-align: top;\n",
       "    }\n",
       "\n",
       "    .dataframe thead th {\n",
       "        text-align: right;\n",
       "    }\n",
       "</style>\n",
       "<table border=\"1\" class=\"dataframe\">\n",
       "  <thead>\n",
       "    <tr style=\"text-align: right;\">\n",
       "      <th></th>\n",
       "      <th>index</th>\n",
       "      <th>text</th>\n",
       "      <th>author</th>\n",
       "    </tr>\n",
       "  </thead>\n",
       "  <tbody>\n",
       "    <tr>\n",
       "      <th>0</th>\n",
       "      <td>0</td>\n",
       "      <td>He was almost choking. There was so much, so m...</td>\n",
       "      <td>3</td>\n",
       "    </tr>\n",
       "    <tr>\n",
       "      <th>1</th>\n",
       "      <td>1</td>\n",
       "      <td>“Your sister asked for it, I suppose?”</td>\n",
       "      <td>2</td>\n",
       "    </tr>\n",
       "    <tr>\n",
       "      <th>2</th>\n",
       "      <td>2</td>\n",
       "      <td>She was engaged one day as she walked, in per...</td>\n",
       "      <td>1</td>\n",
       "    </tr>\n",
       "    <tr>\n",
       "      <th>3</th>\n",
       "      <td>3</td>\n",
       "      <td>The captain was in the porch, keeping himself ...</td>\n",
       "      <td>4</td>\n",
       "    </tr>\n",
       "    <tr>\n",
       "      <th>4</th>\n",
       "      <td>4</td>\n",
       "      <td>“Have mercy, gentlemen!” odin flung up his han...</td>\n",
       "      <td>3</td>\n",
       "    </tr>\n",
       "  </tbody>\n",
       "</table>\n",
       "</div>"
      ],
      "text/plain": [
       "   index                                               text  author\n",
       "0      0  He was almost choking. There was so much, so m...       3\n",
       "1      1             “Your sister asked for it, I suppose?”       2\n",
       "2      2   She was engaged one day as she walked, in per...       1\n",
       "3      3  The captain was in the porch, keeping himself ...       4\n",
       "4      4  “Have mercy, gentlemen!” odin flung up his han...       3"
      ]
     },
     "execution_count": 3,
     "metadata": {},
     "output_type": "execute_result"
    }
   ],
   "source": [
    "# train 내용 확인하기\n",
    "\n",
    "train.head()"
   ]
  },
  {
   "cell_type": "code",
   "execution_count": 4,
   "id": "f64b4658",
   "metadata": {},
   "outputs": [
    {
     "data": {
      "text/html": [
       "<div>\n",
       "<style scoped>\n",
       "    .dataframe tbody tr th:only-of-type {\n",
       "        vertical-align: middle;\n",
       "    }\n",
       "\n",
       "    .dataframe tbody tr th {\n",
       "        vertical-align: top;\n",
       "    }\n",
       "\n",
       "    .dataframe thead th {\n",
       "        text-align: right;\n",
       "    }\n",
       "</style>\n",
       "<table border=\"1\" class=\"dataframe\">\n",
       "  <thead>\n",
       "    <tr style=\"text-align: right;\">\n",
       "      <th></th>\n",
       "      <th>index</th>\n",
       "      <th>text</th>\n",
       "    </tr>\n",
       "  </thead>\n",
       "  <tbody>\n",
       "    <tr>\n",
       "      <th>0</th>\n",
       "      <td>0</td>\n",
       "      <td>“Not at all. I think she is one of the most ch...</td>\n",
       "    </tr>\n",
       "    <tr>\n",
       "      <th>1</th>\n",
       "      <td>1</td>\n",
       "      <td>\"No,\" replied he, with sudden consciousness, \"...</td>\n",
       "    </tr>\n",
       "    <tr>\n",
       "      <th>2</th>\n",
       "      <td>2</td>\n",
       "      <td>As the lady had stated her intention of scream...</td>\n",
       "    </tr>\n",
       "    <tr>\n",
       "      <th>3</th>\n",
       "      <td>3</td>\n",
       "      <td>“And then suddenly in the silence I heard a so...</td>\n",
       "    </tr>\n",
       "    <tr>\n",
       "      <th>4</th>\n",
       "      <td>4</td>\n",
       "      <td>His conviction remained unchanged. So far as I...</td>\n",
       "    </tr>\n",
       "  </tbody>\n",
       "</table>\n",
       "</div>"
      ],
      "text/plain": [
       "   index                                               text\n",
       "0      0  “Not at all. I think she is one of the most ch...\n",
       "1      1  \"No,\" replied he, with sudden consciousness, \"...\n",
       "2      2  As the lady had stated her intention of scream...\n",
       "3      3  “And then suddenly in the silence I heard a so...\n",
       "4      4  His conviction remained unchanged. So far as I..."
      ]
     },
     "execution_count": 4,
     "metadata": {},
     "output_type": "execute_result"
    }
   ],
   "source": [
    "# test 내용 확인하기\n",
    "\n",
    "test.head()"
   ]
  },
  {
   "cell_type": "code",
   "execution_count": 5,
   "id": "5dd04023",
   "metadata": {},
   "outputs": [],
   "source": [
    "# 부호 제거하는 함수 만들고 적용하기\n",
    "\n",
    "def alpha_num(text):\n",
    "    return re.sub(r'[^A-Za-z0-9 ]', '', text)\n",
    "\n",
    "train['text']=train['text'].apply(alpha_num)\n",
    "test['text']=test['text'].apply(alpha_num)"
   ]
  },
  {
   "cell_type": "code",
   "execution_count": 6,
   "id": "a94a3809",
   "metadata": {},
   "outputs": [],
   "source": [
    "# train, test 모두 소문자로 변환하기\n",
    "\n",
    "train['text'] = train['text'].str.lower()\n",
    "test['text'] = test['text'].str.lower()"
   ]
  },
  {
   "cell_type": "code",
   "execution_count": 7,
   "id": "7eb3188b",
   "metadata": {},
   "outputs": [],
   "source": [
    "# 불용어 제거하고 할당하기\n",
    "\n",
    "def remove_stopwords(text):\n",
    "    final_text = []\n",
    "    for i in text.split():\n",
    "        if i.strip().lower() not in stopwords:\n",
    "            final_text.append(i.strip())\n",
    "    return \" \".join(final_text)\n",
    "\n",
    "stopwords = [ \"a\", \"about\", \"above\", \"after\", \"again\", \"against\", \"all\", \"am\", \"an\", \"and\", \"any\", \"are\", \"as\", \n",
    "             \"at\", \"be\", \"because\", \"been\", \"before\", \"being\", \"below\", \"between\", \"both\", \"but\", \"by\", \"could\", \n",
    "             \"did\", \"do\", \"does\", \"doing\", \"down\", \"during\", \"each\", \"few\", \"for\", \"from\", \"further\", \"had\", \"has\", \n",
    "             \"have\", \"having\", \"he\", \"he'd\", \"he'll\", \"he's\", \"her\", \"here\", \"here's\", \"hers\", \"herself\", \"him\", \"himself\", \n",
    "             \"his\", \"how\", \"how's\", \"i\", \"i'd\", \"i'll\", \"i'm\", \"i've\", \"if\", \"in\", \"into\", \"is\", \"it\", \"it's\", \"its\", \"itself\", \n",
    "             \"let's\", \"me\", \"more\", \"most\", \"my\", \"myself\", \"nor\", \"of\", \"on\", \"once\", \"only\", \"or\", \"other\", \"ought\", \"our\", \"ours\", \n",
    "             \"ourselves\", \"out\", \"over\", \"own\", \"same\", \"she\", \"she'd\", \"she'll\", \"she's\", \"should\", \"so\", \"some\", \"such\", \"than\", \"that\", \n",
    "             \"that's\", \"the\", \"their\", \"theirs\", \"them\", \"themselves\", \"then\", \"there\", \"there's\", \"these\", \"they\", \"they'd\", \"they'll\", \n",
    "             \"they're\", \"they've\", \"this\", \"those\", \"through\", \"to\", \"too\", \"under\", \"until\", \"up\", \"very\", \"was\", \"we\", \"we'd\", \"we'll\", \n",
    "             \"we're\", \"we've\", \"were\", \"what\", \"what's\", \"when\", \"when's\", \"where\", \"where's\", \"which\", \"while\", \"who\", \"who's\", \"whom\", \n",
    "             \"why\", \"why's\", \"with\", \"would\", \"you\", \"you'd\", \"you'll\", \"you're\", \"you've\", \"your\", \"yours\", \"yourself\", \"yourselves\" ]\n",
    "\n",
    "train['text'] = train['text'].apply(remove_stopwords)\n",
    "test['text'] = test['text'].apply(remove_stopwords)"
   ]
  },
  {
   "cell_type": "code",
   "execution_count": 8,
   "id": "b13583e6",
   "metadata": {},
   "outputs": [],
   "source": [
    "# X_train, X_test, y_train 할당하기\n",
    "\n",
    "X_train = train['text']\n",
    "X_test = test['text']\n",
    "y_train = train['author']"
   ]
  },
  {
   "cell_type": "code",
   "execution_count": 9,
   "id": "e08a1866",
   "metadata": {},
   "outputs": [],
   "source": [
    "# tokenizer num_words 지정해주기\n",
    "\n",
    "tokenizer = Tokenizer(num_words = 20000)"
   ]
  },
  {
   "cell_type": "code",
   "execution_count": 10,
   "id": "5e45c862",
   "metadata": {},
   "outputs": [],
   "source": [
    "# X_train에 tokenizer fit 해주기\n",
    "\n",
    "tokenizer.fit_on_texts(X_train)\n",
    "tokenizer = Tokenizer(num_words = 20000)"
   ]
  },
  {
   "cell_type": "code",
   "execution_count": 11,
   "id": "6ddf2534",
   "metadata": {},
   "outputs": [],
   "source": [
    "# text_to_sequences로 텍스트 안의 단어들을 숫자의 시퀀스 형태로 만들어 준다.\n",
    "# pad_sequences로 같은 길이의 시퀀스로 변환해준다. padding='post'는 뒤를 0으로 채워준다.\n",
    "\n",
    "train_sequences = tokenizer.texts_to_sequences(X_train)\n",
    "train_padded = pad_sequences(train_sequences, padding='post', maxlen=500)\n",
    "\n",
    "test_sequences = tokenizer.texts_to_sequences(X_test)\n",
    "test_padded = pad_sequences(test_sequences, padding='post', maxlen=500)"
   ]
  },
  {
   "cell_type": "code",
   "execution_count": 19,
   "id": "95dfa424",
   "metadata": {},
   "outputs": [],
   "source": [
    "# NLP모델 만들어주기\n",
    "\n",
    "model = tf.keras.Sequential([\n",
    "    tf.keras.layers.Embedding(20000, 16, input_length=500),\n",
    "    tf.keras.layers.GlobalAveragePooling1D(),\n",
    "    tf.keras.layers.Dense(24, activation='relu'),\n",
    "    tf.keras.layers.Dense(24, activation='relu'),\n",
    "    tf.keras.layers.Dense(5, activation='softmax')\n",
    "])"
   ]
  },
  {
   "cell_type": "code",
   "execution_count": 20,
   "id": "7b1ae38b",
   "metadata": {},
   "outputs": [],
   "source": [
    "# model compile 설정하기\n",
    "\n",
    "model.compile(loss='sparse_categorical_crossentropy',\n",
    "              optimizer='adam',\n",
    "              metrics=['accuracy'])"
   ]
  },
  {
   "cell_type": "code",
   "execution_count": 21,
   "id": "d8d96b3f",
   "metadata": {},
   "outputs": [
    {
     "name": "stdout",
     "output_type": "stream",
     "text": [
      "Model: \"sequential_1\"\n",
      "_________________________________________________________________\n",
      " Layer (type)                Output Shape              Param #   \n",
      "=================================================================\n",
      " embedding_1 (Embedding)     (None, 500, 16)           320000    \n",
      "                                                                 \n",
      " global_average_pooling1d_1   (None, 16)               0         \n",
      " (GlobalAveragePooling1D)                                        \n",
      "                                                                 \n",
      " dense_2 (Dense)             (None, 24)                408       \n",
      "                                                                 \n",
      " dense_3 (Dense)             (None, 24)                600       \n",
      "                                                                 \n",
      " dense_4 (Dense)             (None, 5)                 125       \n",
      "                                                                 \n",
      "=================================================================\n",
      "Total params: 321,133\n",
      "Trainable params: 321,133\n",
      "Non-trainable params: 0\n",
      "_________________________________________________________________\n"
     ]
    }
   ],
   "source": [
    "# model summary 확인하기\n",
    "\n",
    "model.summary()"
   ]
  },
  {
   "cell_type": "code",
   "execution_count": 22,
   "id": "1076dcad",
   "metadata": {},
   "outputs": [
    {
     "name": "stdout",
     "output_type": "stream",
     "text": [
      "Epoch 1/20\n",
      "1372/1372 - 5s - loss: 1.5715 - accuracy: 0.2752 - val_loss: 1.5715 - val_accuracy: 0.2680 - 5s/epoch - 4ms/step\n",
      "Epoch 2/20\n",
      "1372/1372 - 4s - loss: 1.5703 - accuracy: 0.2761 - val_loss: 1.5722 - val_accuracy: 0.2680 - 4s/epoch - 3ms/step\n",
      "Epoch 3/20\n",
      "1372/1372 - 4s - loss: 1.5705 - accuracy: 0.2761 - val_loss: 1.5713 - val_accuracy: 0.2680 - 4s/epoch - 3ms/step\n",
      "Epoch 4/20\n",
      "1372/1372 - 4s - loss: 1.5703 - accuracy: 0.2761 - val_loss: 1.5715 - val_accuracy: 0.2680 - 4s/epoch - 3ms/step\n",
      "Epoch 5/20\n",
      "1372/1372 - 4s - loss: 1.5703 - accuracy: 0.2761 - val_loss: 1.5714 - val_accuracy: 0.2680 - 4s/epoch - 3ms/step\n",
      "Epoch 6/20\n",
      "1372/1372 - 4s - loss: 1.5703 - accuracy: 0.2761 - val_loss: 1.5716 - val_accuracy: 0.2680 - 4s/epoch - 3ms/step\n",
      "Epoch 7/20\n",
      "1372/1372 - 4s - loss: 1.5704 - accuracy: 0.2761 - val_loss: 1.5712 - val_accuracy: 0.2680 - 4s/epoch - 3ms/step\n",
      "Epoch 8/20\n",
      "1372/1372 - 4s - loss: 1.5703 - accuracy: 0.2761 - val_loss: 1.5712 - val_accuracy: 0.2680 - 4s/epoch - 3ms/step\n",
      "Epoch 9/20\n",
      "1372/1372 - 4s - loss: 1.5702 - accuracy: 0.2761 - val_loss: 1.5717 - val_accuracy: 0.2680 - 4s/epoch - 3ms/step\n",
      "Epoch 10/20\n",
      "1372/1372 - 4s - loss: 1.5704 - accuracy: 0.2761 - val_loss: 1.5713 - val_accuracy: 0.2680 - 4s/epoch - 3ms/step\n",
      "Epoch 11/20\n",
      "1372/1372 - 4s - loss: 1.5703 - accuracy: 0.2761 - val_loss: 1.5715 - val_accuracy: 0.2680 - 4s/epoch - 3ms/step\n",
      "Epoch 12/20\n",
      "1372/1372 - 4s - loss: 1.5702 - accuracy: 0.2761 - val_loss: 1.5715 - val_accuracy: 0.2680 - 4s/epoch - 3ms/step\n",
      "Epoch 13/20\n",
      "1372/1372 - 5s - loss: 1.5703 - accuracy: 0.2761 - val_loss: 1.5715 - val_accuracy: 0.2680 - 5s/epoch - 3ms/step\n",
      "Epoch 14/20\n",
      "1372/1372 - 4s - loss: 1.5703 - accuracy: 0.2761 - val_loss: 1.5713 - val_accuracy: 0.2680 - 4s/epoch - 3ms/step\n",
      "Epoch 15/20\n",
      "1372/1372 - 4s - loss: 1.5701 - accuracy: 0.2761 - val_loss: 1.5715 - val_accuracy: 0.2680 - 4s/epoch - 3ms/step\n",
      "Epoch 16/20\n",
      "1372/1372 - 4s - loss: 1.5702 - accuracy: 0.2761 - val_loss: 1.5713 - val_accuracy: 0.2680 - 4s/epoch - 3ms/step\n",
      "Epoch 17/20\n",
      "1372/1372 - 4s - loss: 1.5702 - accuracy: 0.2761 - val_loss: 1.5715 - val_accuracy: 0.2680 - 4s/epoch - 3ms/step\n",
      "Epoch 18/20\n",
      "1372/1372 - 4s - loss: 1.5701 - accuracy: 0.2761 - val_loss: 1.5720 - val_accuracy: 0.2680 - 4s/epoch - 3ms/step\n",
      "Epoch 19/20\n",
      "1372/1372 - 4s - loss: 1.5702 - accuracy: 0.2761 - val_loss: 1.5712 - val_accuracy: 0.2680 - 4s/epoch - 3ms/step\n",
      "Epoch 20/20\n",
      "1372/1372 - 5s - loss: 1.5701 - accuracy: 0.2761 - val_loss: 1.5714 - val_accuracy: 0.2680 - 5s/epoch - 3ms/step\n"
     ]
    },
    {
     "data": {
      "text/plain": [
       "<keras.callbacks.History at 0x24c4f98c940>"
      ]
     },
     "execution_count": 22,
     "metadata": {},
     "output_type": "execute_result"
    }
   ],
   "source": [
    "# model fit 해주기\n",
    "\n",
    "history = model.fit(train_padded, y_train, epochs=20, verbose=2, validation_split=0.2)\n",
    "history"
   ]
  },
  {
   "cell_type": "code",
   "execution_count": 23,
   "id": "0f4a1bec",
   "metadata": {},
   "outputs": [
    {
     "name": "stdout",
     "output_type": "stream",
     "text": [
      "614/614 [==============================] - 0s 666us/step\n"
     ]
    },
    {
     "data": {
      "text/plain": [
       "array([[0.24385561, 0.12774248, 0.20836984, 0.27960014, 0.14043194],\n",
       "       [0.24385561, 0.12774248, 0.20836984, 0.27960014, 0.14043194],\n",
       "       [0.24385561, 0.12774248, 0.20836984, 0.27960014, 0.14043194],\n",
       "       ...,\n",
       "       [0.24385561, 0.12774248, 0.20836984, 0.27960014, 0.14043194],\n",
       "       [0.24385561, 0.12774248, 0.20836984, 0.27960014, 0.14043194],\n",
       "       [0.24385561, 0.12774248, 0.20836984, 0.27960014, 0.14043194]],\n",
       "      dtype=float32)"
      ]
     },
     "execution_count": 23,
     "metadata": {},
     "output_type": "execute_result"
    }
   ],
   "source": [
    "# test 데이터 predict 해주기\n",
    "\n",
    "y_pred = model.predict(test_padded)\n",
    "y_pred"
   ]
  },
  {
   "cell_type": "code",
   "execution_count": 24,
   "id": "098828d7",
   "metadata": {},
   "outputs": [
    {
     "data": {
      "text/html": [
       "<div>\n",
       "<style scoped>\n",
       "    .dataframe tbody tr th:only-of-type {\n",
       "        vertical-align: middle;\n",
       "    }\n",
       "\n",
       "    .dataframe tbody tr th {\n",
       "        vertical-align: top;\n",
       "    }\n",
       "\n",
       "    .dataframe thead th {\n",
       "        text-align: right;\n",
       "    }\n",
       "</style>\n",
       "<table border=\"1\" class=\"dataframe\">\n",
       "  <thead>\n",
       "    <tr style=\"text-align: right;\">\n",
       "      <th></th>\n",
       "      <th>index</th>\n",
       "      <th>0</th>\n",
       "      <th>1</th>\n",
       "      <th>2</th>\n",
       "      <th>3</th>\n",
       "      <th>4</th>\n",
       "    </tr>\n",
       "  </thead>\n",
       "  <tbody>\n",
       "    <tr>\n",
       "      <th>0</th>\n",
       "      <td>0</td>\n",
       "      <td>0.243856</td>\n",
       "      <td>0.127742</td>\n",
       "      <td>0.20837</td>\n",
       "      <td>0.2796</td>\n",
       "      <td>0.140432</td>\n",
       "    </tr>\n",
       "    <tr>\n",
       "      <th>1</th>\n",
       "      <td>1</td>\n",
       "      <td>0.243856</td>\n",
       "      <td>0.127742</td>\n",
       "      <td>0.20837</td>\n",
       "      <td>0.2796</td>\n",
       "      <td>0.140432</td>\n",
       "    </tr>\n",
       "    <tr>\n",
       "      <th>2</th>\n",
       "      <td>2</td>\n",
       "      <td>0.243856</td>\n",
       "      <td>0.127742</td>\n",
       "      <td>0.20837</td>\n",
       "      <td>0.2796</td>\n",
       "      <td>0.140432</td>\n",
       "    </tr>\n",
       "    <tr>\n",
       "      <th>3</th>\n",
       "      <td>3</td>\n",
       "      <td>0.243856</td>\n",
       "      <td>0.127742</td>\n",
       "      <td>0.20837</td>\n",
       "      <td>0.2796</td>\n",
       "      <td>0.140432</td>\n",
       "    </tr>\n",
       "    <tr>\n",
       "      <th>4</th>\n",
       "      <td>4</td>\n",
       "      <td>0.243856</td>\n",
       "      <td>0.127742</td>\n",
       "      <td>0.20837</td>\n",
       "      <td>0.2796</td>\n",
       "      <td>0.140432</td>\n",
       "    </tr>\n",
       "    <tr>\n",
       "      <th>...</th>\n",
       "      <td>...</td>\n",
       "      <td>...</td>\n",
       "      <td>...</td>\n",
       "      <td>...</td>\n",
       "      <td>...</td>\n",
       "      <td>...</td>\n",
       "    </tr>\n",
       "    <tr>\n",
       "      <th>19612</th>\n",
       "      <td>19612</td>\n",
       "      <td>0.243856</td>\n",
       "      <td>0.127742</td>\n",
       "      <td>0.20837</td>\n",
       "      <td>0.2796</td>\n",
       "      <td>0.140432</td>\n",
       "    </tr>\n",
       "    <tr>\n",
       "      <th>19613</th>\n",
       "      <td>19613</td>\n",
       "      <td>0.243856</td>\n",
       "      <td>0.127742</td>\n",
       "      <td>0.20837</td>\n",
       "      <td>0.2796</td>\n",
       "      <td>0.140432</td>\n",
       "    </tr>\n",
       "    <tr>\n",
       "      <th>19614</th>\n",
       "      <td>19614</td>\n",
       "      <td>0.243856</td>\n",
       "      <td>0.127742</td>\n",
       "      <td>0.20837</td>\n",
       "      <td>0.2796</td>\n",
       "      <td>0.140432</td>\n",
       "    </tr>\n",
       "    <tr>\n",
       "      <th>19615</th>\n",
       "      <td>19615</td>\n",
       "      <td>0.243856</td>\n",
       "      <td>0.127742</td>\n",
       "      <td>0.20837</td>\n",
       "      <td>0.2796</td>\n",
       "      <td>0.140432</td>\n",
       "    </tr>\n",
       "    <tr>\n",
       "      <th>19616</th>\n",
       "      <td>19616</td>\n",
       "      <td>0.243856</td>\n",
       "      <td>0.127742</td>\n",
       "      <td>0.20837</td>\n",
       "      <td>0.2796</td>\n",
       "      <td>0.140432</td>\n",
       "    </tr>\n",
       "  </tbody>\n",
       "</table>\n",
       "<p>19617 rows × 6 columns</p>\n",
       "</div>"
      ],
      "text/plain": [
       "       index         0         1        2       3         4\n",
       "0          0  0.243856  0.127742  0.20837  0.2796  0.140432\n",
       "1          1  0.243856  0.127742  0.20837  0.2796  0.140432\n",
       "2          2  0.243856  0.127742  0.20837  0.2796  0.140432\n",
       "3          3  0.243856  0.127742  0.20837  0.2796  0.140432\n",
       "4          4  0.243856  0.127742  0.20837  0.2796  0.140432\n",
       "...      ...       ...       ...      ...     ...       ...\n",
       "19612  19612  0.243856  0.127742  0.20837  0.2796  0.140432\n",
       "19613  19613  0.243856  0.127742  0.20837  0.2796  0.140432\n",
       "19614  19614  0.243856  0.127742  0.20837  0.2796  0.140432\n",
       "19615  19615  0.243856  0.127742  0.20837  0.2796  0.140432\n",
       "19616  19616  0.243856  0.127742  0.20837  0.2796  0.140432\n",
       "\n",
       "[19617 rows x 6 columns]"
      ]
     },
     "execution_count": 24,
     "metadata": {},
     "output_type": "execute_result"
    }
   ],
   "source": [
    "# predict 값 submission에 할당해주기\n",
    "\n",
    "submission[['0','1','2','3','4']] = y_pred\n",
    "submission"
   ]
  },
  {
   "cell_type": "code",
   "execution_count": null,
   "id": "5813de5e",
   "metadata": {},
   "outputs": [],
   "source": []
  }
 ],
 "metadata": {
  "kernelspec": {
   "display_name": "Python 3 (ipykernel)",
   "language": "python",
   "name": "python3"
  },
  "language_info": {
   "codemirror_mode": {
    "name": "ipython",
    "version": 3
   },
   "file_extension": ".py",
   "mimetype": "text/x-python",
   "name": "python",
   "nbconvert_exporter": "python",
   "pygments_lexer": "ipython3",
   "version": "3.9.12"
  }
 },
 "nbformat": 4,
 "nbformat_minor": 5
}
