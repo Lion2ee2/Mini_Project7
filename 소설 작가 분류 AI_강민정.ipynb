{
 "cells": [
  {
   "cell_type": "markdown",
   "id": "a0c339cf",
   "metadata": {},
   "source": [
    "# Library Load"
   ]
  },
  {
   "cell_type": "code",
   "execution_count": 1,
   "id": "7203d003",
   "metadata": {},
   "outputs": [
    {
     "name": "stderr",
     "output_type": "stream",
     "text": [
      "[nltk_data] Downloading package stopwords to /home/work/nltk_data...\n",
      "[nltk_data]   Package stopwords is already up-to-date!\n",
      "[nltk_data] Downloading package wordnet to /home/work/nltk_data...\n",
      "[nltk_data]   Package wordnet is already up-to-date!\n",
      "[nltk_data] Downloading package omw-1.4 to /home/work/nltk_data...\n",
      "[nltk_data]   Package omw-1.4 is already up-to-date!\n"
     ]
    }
   ],
   "source": [
    "# 기본 library\n",
    "import pandas as pd\n",
    "import numpy as np\n",
    "import re\n",
    "\n",
    "# 시각화 library \n",
    "import seaborn as sns\n",
    "import matplotlib.pyplot as plt\n",
    "\n",
    "# 평가지표 library\n",
    "from sklearn.metrics import accuracy_score, log_loss\n",
    "from sklearn.model_selection import StratifiedKFold\n",
    "from sklearn.model_selection import train_test_split\n",
    "\n",
    "# tensorflow library\n",
    "import tensorflow as tf\n",
    "from tensorflow.keras import Sequential\n",
    "from tensorflow.keras.layers import Dense, Embedding, LSTM, Dropout, Bidirectional\n",
    "from tensorflow.keras.preprocessing.sequence import pad_sequences\n",
    "from tensorflow.keras.preprocessing.text import Tokenizer\n",
    "from tensorflow.keras.callbacks import EarlyStopping, ReduceLROnPlateau\n",
    "from tensorflow.keras.utils import plot_model, to_categorical\n",
    "from tensorflow.keras.optimizers import Adam\n",
    "\n",
    "from keras.utils import np_utils\n",
    "\n",
    "# nltk library\n",
    "import nltk\n",
    "nltk.download('stopwords')\n",
    "nltk.download('wordnet')\n",
    "nltk.download('omw-1.4')\n",
    "from nltk.corpus import stopwords\n",
    "from nltk.stem import PorterStemmer\n",
    "from nltk.stem import WordNetLemmatizer\n",
    "\n",
    "# 오류 관련 library\n",
    "import warnings \n",
    "warnings.filterwarnings(action='ignore')\n",
    "\n",
    "# Python, NumPy, TensorFlow의 random seed 고정\n",
    "seed = 42\n",
    "tf.keras.utils.set_random_seed(seed)"
   ]
  },
  {
   "cell_type": "markdown",
   "id": "a28d19ad",
   "metadata": {},
   "source": [
    "# Dataset Load"
   ]
  },
  {
   "cell_type": "code",
   "execution_count": 2,
   "id": "161bcece",
   "metadata": {},
   "outputs": [],
   "source": [
    "path = \"novel_writer_data/\""
   ]
  },
  {
   "cell_type": "code",
   "execution_count": 3,
   "id": "68f48ffe",
   "metadata": {},
   "outputs": [],
   "source": [
    "train = pd.read_csv(path+'train.csv', encoding = 'utf-8')\n",
    "test = pd.read_csv(path+'test_x.csv', encoding = 'utf-8')"
   ]
  },
  {
   "cell_type": "code",
   "execution_count": 4,
   "id": "6f6c096b",
   "metadata": {},
   "outputs": [
    {
     "data": {
      "text/html": [
       "<div>\n",
       "<style scoped>\n",
       "    .dataframe tbody tr th:only-of-type {\n",
       "        vertical-align: middle;\n",
       "    }\n",
       "\n",
       "    .dataframe tbody tr th {\n",
       "        vertical-align: top;\n",
       "    }\n",
       "\n",
       "    .dataframe thead th {\n",
       "        text-align: right;\n",
       "    }\n",
       "</style>\n",
       "<table border=\"1\" class=\"dataframe\">\n",
       "  <thead>\n",
       "    <tr style=\"text-align: right;\">\n",
       "      <th></th>\n",
       "      <th>index</th>\n",
       "      <th>text</th>\n",
       "      <th>author</th>\n",
       "    </tr>\n",
       "  </thead>\n",
       "  <tbody>\n",
       "    <tr>\n",
       "      <th>0</th>\n",
       "      <td>0</td>\n",
       "      <td>He was almost choking. There was so much, so m...</td>\n",
       "      <td>3</td>\n",
       "    </tr>\n",
       "    <tr>\n",
       "      <th>1</th>\n",
       "      <td>1</td>\n",
       "      <td>“Your sister asked for it, I suppose?”</td>\n",
       "      <td>2</td>\n",
       "    </tr>\n",
       "  </tbody>\n",
       "</table>\n",
       "</div>"
      ],
      "text/plain": [
       "   index                                               text  author\n",
       "0      0  He was almost choking. There was so much, so m...       3\n",
       "1      1             “Your sister asked for it, I suppose?”       2"
      ]
     },
     "metadata": {},
     "output_type": "display_data"
    },
    {
     "data": {
      "text/html": [
       "<div>\n",
       "<style scoped>\n",
       "    .dataframe tbody tr th:only-of-type {\n",
       "        vertical-align: middle;\n",
       "    }\n",
       "\n",
       "    .dataframe tbody tr th {\n",
       "        vertical-align: top;\n",
       "    }\n",
       "\n",
       "    .dataframe thead th {\n",
       "        text-align: right;\n",
       "    }\n",
       "</style>\n",
       "<table border=\"1\" class=\"dataframe\">\n",
       "  <thead>\n",
       "    <tr style=\"text-align: right;\">\n",
       "      <th></th>\n",
       "      <th>index</th>\n",
       "      <th>text</th>\n",
       "    </tr>\n",
       "  </thead>\n",
       "  <tbody>\n",
       "    <tr>\n",
       "      <th>0</th>\n",
       "      <td>0</td>\n",
       "      <td>“Not at all. I think she is one of the most ch...</td>\n",
       "    </tr>\n",
       "    <tr>\n",
       "      <th>1</th>\n",
       "      <td>1</td>\n",
       "      <td>\"No,\" replied he, with sudden consciousness, \"...</td>\n",
       "    </tr>\n",
       "  </tbody>\n",
       "</table>\n",
       "</div>"
      ],
      "text/plain": [
       "   index                                               text\n",
       "0      0  “Not at all. I think she is one of the most ch...\n",
       "1      1  \"No,\" replied he, with sudden consciousness, \"..."
      ]
     },
     "metadata": {},
     "output_type": "display_data"
    }
   ],
   "source": [
    "display(train.head(2))\n",
    "display(test.head(2))"
   ]
  },
  {
   "cell_type": "code",
   "execution_count": 5,
   "id": "c2c3137e",
   "metadata": {},
   "outputs": [
    {
     "data": {
      "text/plain": [
       "(0, 0)"
      ]
     },
     "execution_count": 5,
     "metadata": {},
     "output_type": "execute_result"
    }
   ],
   "source": [
    "train.isnull().sum().sum(), test.isnull().sum().sum()"
   ]
  },
  {
   "cell_type": "markdown",
   "id": "165b6c25",
   "metadata": {},
   "source": [
    "# Text data Preprocessing"
   ]
  },
  {
   "cell_type": "code",
   "execution_count": 6,
   "id": "807820d7",
   "metadata": {},
   "outputs": [
    {
     "data": {
      "text/plain": [
       "'“Have mercy, gentlemen!” odin flung up his hands. “Don’t write that, anyway; have some shame. Here I’ve torn my heart asunder before you, and you seize the opportunity and are fingering the wounds in both halves.... Oh, my God!”'"
      ]
     },
     "execution_count": 6,
     "metadata": {},
     "output_type": "execute_result"
    }
   ],
   "source": [
    "train['text'][4]"
   ]
  },
  {
   "cell_type": "markdown",
   "id": "adf8e083",
   "metadata": {},
   "source": [
    "> **특수문자 제거하기**"
   ]
  },
  {
   "cell_type": "code",
   "execution_count": 7,
   "id": "d80dc61e",
   "metadata": {},
   "outputs": [],
   "source": [
    "def remove_special_characters(text):\n",
    "    return re.sub(r'[^A-Za-z 0-9]','',text)"
   ]
  },
  {
   "cell_type": "code",
   "execution_count": 8,
   "id": "6c610f27",
   "metadata": {},
   "outputs": [],
   "source": [
    "train['text'] = train['text'].apply(remove_special_characters)\n",
    "test['text'] = test['text'].apply(remove_special_characters)"
   ]
  },
  {
   "cell_type": "code",
   "execution_count": 9,
   "id": "a9587db7",
   "metadata": {},
   "outputs": [
    {
     "data": {
      "text/plain": [
       "'Have mercy gentlemen odin flung up his hands Dont write that anyway have some shame Here Ive torn my heart asunder before you and you seize the opportunity and are fingering the wounds in both halves Oh my God'"
      ]
     },
     "execution_count": 9,
     "metadata": {},
     "output_type": "execute_result"
    }
   ],
   "source": [
    "# 확인\n",
    "train['text'][4]"
   ]
  },
  {
   "cell_type": "markdown",
   "id": "3b1f446e",
   "metadata": {},
   "source": [
    "> **모두 소문자로 변경**"
   ]
  },
  {
   "cell_type": "code",
   "execution_count": 10,
   "id": "43496c8d",
   "metadata": {},
   "outputs": [],
   "source": [
    "train['text'] = train['text'].str.lower()\n",
    "test['text'] = test['text'].str.lower()"
   ]
  },
  {
   "cell_type": "code",
   "execution_count": 11,
   "id": "116908da",
   "metadata": {},
   "outputs": [
    {
     "data": {
      "text/plain": [
       "'have mercy gentlemen odin flung up his hands dont write that anyway have some shame here ive torn my heart asunder before you and you seize the opportunity and are fingering the wounds in both halves oh my god'"
      ]
     },
     "execution_count": 11,
     "metadata": {},
     "output_type": "execute_result"
    }
   ],
   "source": [
    "train['text'][4]"
   ]
  },
  {
   "cell_type": "markdown",
   "id": "0e2916fd",
   "metadata": {},
   "source": [
    "> **연속된 공백을 하나의 공백으로 통일**"
   ]
  },
  {
   "cell_type": "code",
   "execution_count": 12,
   "id": "69d942f6",
   "metadata": {},
   "outputs": [],
   "source": [
    "train['text'] = train['text'].apply(lambda x: re.sub(' +', ' ', x))\n",
    "test['text'] = test['text'].apply(lambda x: re.sub(' +', ' ', x))"
   ]
  },
  {
   "cell_type": "code",
   "execution_count": 13,
   "id": "233cc515",
   "metadata": {},
   "outputs": [
    {
     "data": {
      "text/plain": [
       "'have mercy gentlemen odin flung up his hands dont write that anyway have some shame here ive torn my heart asunder before you and you seize the opportunity and are fingering the wounds in both halves oh my god'"
      ]
     },
     "execution_count": 13,
     "metadata": {},
     "output_type": "execute_result"
    }
   ],
   "source": [
    "train['text'][4]"
   ]
  },
  {
   "cell_type": "markdown",
   "id": "3a835720",
   "metadata": {},
   "source": [
    "> **불용어 제거**"
   ]
  },
  {
   "cell_type": "code",
   "execution_count": 14,
   "id": "df88e0a8",
   "metadata": {},
   "outputs": [],
   "source": [
    "stop_words = set(stopwords.words('english')) \n",
    "stop_words = [ \"a\", \"about\", \"above\", \"after\", \"again\", \"against\", \"all\", \"am\", \"an\", \"and\", \"any\", \"are\", \"as\", \n",
    "             \"at\", \"be\", \"because\", \"been\", \"before\", \"being\", \"below\", \"between\", \"both\", \"but\", \"by\", \"could\", \n",
    "             \"did\", \"do\", \"does\", \"doing\", \"down\", \"during\", \"each\", \"few\", \"for\", \"from\", \"further\", \"had\", \"has\", \n",
    "             \"have\", \"having\", \"he\", \"he'd\", \"he'll\", \"he's\", \"her\", \"here\", \"here's\", \"hers\", \"herself\", \"him\", \"himself\", \n",
    "             \"his\", \"how\", \"how's\", \"i\", \"i'd\", \"i'll\", \"i'm\", \"i've\", \"if\", \"in\", \"into\", \"is\", \"it\", \"it's\", \"its\", \"itself\", \n",
    "             \"let's\", \"me\", \"more\", \"most\", \"my\", \"myself\", \"nor\", \"of\", \"on\", \"once\", \"only\", \"or\", \"other\", \"ought\", \"our\", \"ours\", \n",
    "             \"ourselves\", \"out\", \"over\", \"own\", \"same\", \"she\", \"she'd\", \"she'll\", \"she's\", \"should\", \"so\", \"some\", \"such\", \"than\", \"that\", \n",
    "             \"that's\", \"the\", \"their\", \"theirs\", \"them\", \"themselves\", \"then\", \"there\", \"there's\", \"these\", \"they\", \"they'd\", \"they'll\", \n",
    "             \"they're\", \"they've\", \"this\", \"those\", \"through\", \"to\", \"too\", \"under\", \"until\", \"up\", \"very\", \"was\", \"we\", \"we'd\", \"we'll\", \n",
    "             \"we're\", \"we've\", \"were\", \"what\", \"what's\", \"when\", \"when's\", \"where\", \"where's\", \"which\", \"while\", \"who\", \"who's\", \"whom\", \n",
    "             \"why\", \"why's\", \"with\", \"would\", \"you\", \"you'd\", \"you'll\", \"you're\", \"you've\", \"your\", \"yours\", \"yourself\", \"yourselves\" ]\n",
    "\n",
    "def remove_stopwords(text):\n",
    "    final_text = []\n",
    "    for i in text.split():\n",
    "        if i.strip() not in stop_words:\n",
    "            final_text.append(i.strip())\n",
    "    return \" \".join(final_text)"
   ]
  },
  {
   "cell_type": "code",
   "execution_count": 15,
   "id": "f4ead580",
   "metadata": {},
   "outputs": [],
   "source": [
    "train['text'] = train['text'].apply(remove_stopwords)\n",
    "test['text'] = test['text'].apply(remove_stopwords)"
   ]
  },
  {
   "cell_type": "code",
   "execution_count": 16,
   "id": "df45369c",
   "metadata": {},
   "outputs": [
    {
     "data": {
      "text/plain": [
       "'mercy gentlemen odin flung hands dont write anyway shame ive torn heart asunder seize opportunity fingering wounds halves oh god'"
      ]
     },
     "execution_count": 16,
     "metadata": {},
     "output_type": "execute_result"
    }
   ],
   "source": [
    "train['text'][4]"
   ]
  },
  {
   "cell_type": "markdown",
   "id": "e2ce0a32",
   "metadata": {},
   "source": [
    "> **Stemming and Lemmatization**"
   ]
  },
  {
   "cell_type": "markdown",
   "id": "ca60e1a4",
   "metadata": {},
   "source": [
    "* Stemming과 Lemmatization이 작가의 문체를 해칠 수 있다고 생각이 들었지만, 실제로는 적용했을 때 모델의 성능이 더 좋을 수도 있으니 따로 적용해준 **파생 변수(text_S, text_L)**를 생성해 비교해보기 함"
   ]
  },
  {
   "cell_type": "code",
   "execution_count": 17,
   "id": "4931a960",
   "metadata": {},
   "outputs": [],
   "source": [
    "# text_S"
   ]
  },
  {
   "cell_type": "code",
   "execution_count": 18,
   "id": "dbe6ed8a",
   "metadata": {},
   "outputs": [],
   "source": [
    "stemmer = PorterStemmer()\n",
    "def stem_words(text):\n",
    "    return \" \".join([stemmer.stem(word) for word in text.split()])"
   ]
  },
  {
   "cell_type": "code",
   "execution_count": 19,
   "id": "b7ff5343",
   "metadata": {},
   "outputs": [],
   "source": [
    "train['text_S'] = train['text'].apply(stem_words)\n",
    "test['text_S'] = test['text'].apply(stem_words)"
   ]
  },
  {
   "cell_type": "code",
   "execution_count": 20,
   "id": "0786e70d",
   "metadata": {},
   "outputs": [
    {
     "data": {
      "text/plain": [
       "'merci gentlemen odin flung hand dont write anyway shame ive torn heart asund seiz opportun finger wound halv oh god'"
      ]
     },
     "execution_count": 20,
     "metadata": {},
     "output_type": "execute_result"
    }
   ],
   "source": [
    "train['text_S'][4]"
   ]
  },
  {
   "cell_type": "code",
   "execution_count": 21,
   "id": "fa038c4c",
   "metadata": {},
   "outputs": [],
   "source": [
    "# text_L"
   ]
  },
  {
   "cell_type": "code",
   "execution_count": 22,
   "id": "d911a0cb",
   "metadata": {},
   "outputs": [],
   "source": [
    "lemmatizer = WordNetLemmatizer()\n",
    "def lemmatize_words(text):\n",
    "    return \" \".join([lemmatizer.lemmatize(word) for word in text.split()])"
   ]
  },
  {
   "cell_type": "code",
   "execution_count": 23,
   "id": "b712d599",
   "metadata": {},
   "outputs": [],
   "source": [
    "train['text_L'] = train['text'].apply(lemmatize_words)\n",
    "test['text_L'] = test['text'].apply(lemmatize_words)"
   ]
  },
  {
   "cell_type": "code",
   "execution_count": 24,
   "id": "0013e130",
   "metadata": {},
   "outputs": [
    {
     "data": {
      "text/plain": [
       "'mercy gentleman odin flung hand dont write anyway shame ive torn heart asunder seize opportunity fingering wound half oh god'"
      ]
     },
     "execution_count": 24,
     "metadata": {},
     "output_type": "execute_result"
    }
   ],
   "source": [
    "train['text_L'][4]"
   ]
  },
  {
   "cell_type": "markdown",
   "id": "874a86d3",
   "metadata": {},
   "source": [
    "# Data Visualization"
   ]
  },
  {
   "cell_type": "markdown",
   "id": "af693817",
   "metadata": {},
   "source": [
    "> **작가별 데이터 개수 비교**"
   ]
  },
  {
   "cell_type": "code",
   "execution_count": 25,
   "id": "65344503",
   "metadata": {},
   "outputs": [
    {
     "data": {
      "text/plain": [
       "Text(0.5, 1.0, 'Samples per each class (Training set)')"
      ]
     },
     "execution_count": 25,
     "metadata": {},
     "output_type": "execute_result"
    },
    {
     "data": {
      "image/png": "[encoded data removed]",
      "text/plain": [
       "<Figure size 640x480 with 1 Axes>"
      ]
     },
     "metadata": {},
     "output_type": "display_data"
    }
   ],
   "source": [
    "sns.countplot(data=train, x=\"author\").set_title(\"Samples per each class (Training set)\")"
   ]
  },
  {
   "cell_type": "markdown",
   "id": "769645c8",
   "metadata": {},
   "source": [
    "> **단어 개수로 문장 길이 분포도 확인**"
   ]
  },
  {
   "cell_type": "code",
   "execution_count": 26,
   "id": "9fee83f1",
   "metadata": {},
   "outputs": [
    {
     "data": {
      "text/plain": [
       "34282    32\n",
       "47847    37\n",
       "47381    24\n",
       "39571    14\n",
       "52923    26\n",
       "Name: doc_len, dtype: int64"
      ]
     },
     "execution_count": 26,
     "metadata": {},
     "output_type": "execute_result"
    }
   ],
   "source": [
    "train['doc_len'] = train[\"text\"].apply(lambda words:len(words.split()))\n",
    "train['doc_len'].sample(5)"
   ]
  },
  {
   "cell_type": "code",
   "execution_count": 27,
   "id": "bd57e485",
   "metadata": {},
   "outputs": [],
   "source": [
    "def plot_doc_length(df):\n",
    "    mean_doc_len = int(np.round(df[\"doc_len\"].mean()))\n",
    "    sns.distplot(df[\"doc_len\"], hist=True, kde=True, label=\"Document Length\")\n",
    "    plt.axvline(x=mean_doc_len, color=\"k\", linestyle=\"--\", label=f\"Sequence length mean:{mean_doc_len}\")\n",
    "    plt.title(\"Document Length\")\n",
    "    plt.legend()\n",
    "    plt.show()"
   ]
  },
  {
   "cell_type": "code",
   "execution_count": 28,
   "id": "364c8eee",
   "metadata": {},
   "outputs": [
    {
     "data": {
      "image/png": "[encoded data removed]",
      "text/plain": [
       "<Figure size 640x480 with 1 Axes>"
      ]
     },
     "metadata": {},
     "output_type": "display_data"
    }
   ],
   "source": [
    "plot_doc_length(train)"
   ]
  },
  {
   "cell_type": "code",
   "execution_count": 29,
   "id": "2ad5071d",
   "metadata": {},
   "outputs": [
    {
     "name": "stdout",
     "output_type": "stream",
     "text": [
      "가장 긴 문장은 211개의 단어를, 가장 짧은 문장은 0개의 단어를 가지고 있습니다.\n"
     ]
    }
   ],
   "source": [
    "print(f\"가장 긴 문장은 {train['doc_len'].max()}개의 단어를, 가장 짧은 문장은 {train['doc_len'].min()}개의 단어를 가지고 있습니다.\")"
   ]
  },
  {
   "cell_type": "markdown",
   "id": "f1f17b78",
   "metadata": {},
   "source": [
    "* **sequence**에서 **max length**를 적당히 **150개**로 지정!"
   ]
  },
  {
   "cell_type": "markdown",
   "id": "554747d2",
   "metadata": {},
   "source": [
    "# Text data Vectorization"
   ]
  },
  {
   "cell_type": "code",
   "execution_count": 30,
   "id": "6d318146",
   "metadata": {},
   "outputs": [],
   "source": [
    "# Choose the text feauture you want to use\n",
    "# \"text\" or \"text_S\" or \"text_L\"\n",
    "text_feauture = \"text\"\n",
    "label = \"author\""
   ]
  },
  {
   "cell_type": "code",
   "execution_count": 31,
   "id": "5981e468",
   "metadata": {},
   "outputs": [],
   "source": [
    "X_train = np.array(train[text_feauture])\n",
    "X_test = np.array(test[text_feauture])\n",
    "y_train = np.array(train[label])"
   ]
  },
  {
   "cell_type": "code",
   "execution_count": 32,
   "id": "c99226c6",
   "metadata": {},
   "outputs": [
    {
     "name": "stdout",
     "output_type": "stream",
     "text": [
      "X_train shape :  (54879,)\n",
      "X_test shape :  (19617,)\n",
      "y_train shape :  (54879,)\n"
     ]
    }
   ],
   "source": [
    "print(\"X_train shape : \" , X_train.shape)\n",
    "print(\"X_test shape : \" , X_test.shape)\n",
    "print(\"y_train shape : \" , y_train.shape)"
   ]
  },
  {
   "cell_type": "markdown",
   "id": "88501fbb",
   "metadata": {},
   "source": [
    "> **Parameter Setting**"
   ]
  },
  {
   "cell_type": "code",
   "execution_count": 33,
   "id": "11e249a2",
   "metadata": {},
   "outputs": [],
   "source": [
    "vocab_size = 2000 \n",
    "embedding_dim = 200  \n",
    "max_length = 150 \n",
    "padding_type='post'"
   ]
  },
  {
   "cell_type": "markdown",
   "id": "becf3ca5",
   "metadata": {},
   "source": [
    "> **Tokenizer**"
   ]
  },
  {
   "cell_type": "code",
   "execution_count": 34,
   "id": "91270794",
   "metadata": {},
   "outputs": [],
   "source": [
    "tokenizer = Tokenizer(num_words = vocab_size)\n",
    "tokenizer.fit_on_texts(X_train)"
   ]
  },
  {
   "cell_type": "code",
   "execution_count": 35,
   "id": "4de08f7c",
   "metadata": {},
   "outputs": [
    {
     "name": "stdout",
     "output_type": "stream",
     "text": [
      "[('odin', 1), ('not', 2), ('said', 3), ('no', 4), ('one', 5)]\n"
     ]
    }
   ],
   "source": [
    "print(list(tokenizer.word_index.items())[:5])"
   ]
  },
  {
   "cell_type": "markdown",
   "id": "b0724408",
   "metadata": {},
   "source": [
    "> **Sequence**"
   ]
  },
  {
   "cell_type": "code",
   "execution_count": 36,
   "id": "ed0fb0de",
   "metadata": {},
   "outputs": [],
   "source": [
    "sequences_train = tokenizer.texts_to_sequences(X_train) \n",
    "sequences_test = tokenizer.texts_to_sequences(X_test) "
   ]
  },
  {
   "cell_type": "code",
   "execution_count": 37,
   "id": "084c10b7",
   "metadata": {},
   "outputs": [
    {
     "name": "stdout",
     "output_type": "stream",
     "text": [
      "train[0] : [141, 20, 20, 316, 21, 229, 36, 452, 1202, 1701, 1207, 45, 57, 1, 1214]\n",
      "\n",
      "train[1] : [217, 58, 221]\n",
      "\n",
      "train[2] : [682, 5, 59, 250, 38, 194, 1232, 485, 2, 625, 499, 699, 501, 6, 1, 79, 107, 1, 671, 862, 50, 194, 424, 289, 3]\n",
      "\n",
      "train[3] : [251, 874, 1237, 43, 830, 1504, 121, 254, 24, 1147, 617, 502, 1, 66, 1735, 135, 399, 1789, 1626, 617, 106, 1901, 137, 1790]\n",
      "\n",
      "train[4] : [1381, 346, 1, 1555, 106, 31, 488, 1478, 975, 211, 104, 891, 83, 200]\n",
      "\n"
     ]
    }
   ],
   "source": [
    "for i in range(5):\n",
    "    print(f\"train[{i}] : {sequences_train[i]}\\n\")"
   ]
  },
  {
   "cell_type": "markdown",
   "id": "2c0a5dc1",
   "metadata": {},
   "source": [
    "> **Padding**"
   ]
  },
  {
   "cell_type": "code",
   "execution_count": 38,
   "id": "2c614980",
   "metadata": {},
   "outputs": [],
   "source": [
    "train_input = pad_sequences(sequences_train, padding=padding_type, maxlen=max_length)\n",
    "test_input = pad_sequences(sequences_test, padding=padding_type, maxlen=max_length)"
   ]
  },
  {
   "cell_type": "code",
   "execution_count": 39,
   "id": "35ffe001",
   "metadata": {},
   "outputs": [
    {
     "name": "stdout",
     "output_type": "stream",
     "text": [
      "train_input shape :  (54879, 150)\n",
      "test_input shape :  (19617, 150)\n"
     ]
    }
   ],
   "source": [
    "print(\"train_input shape : \" , train_input.shape)\n",
    "print(\"test_input shape : \" , test_input.shape)"
   ]
  },
  {
   "cell_type": "markdown",
   "id": "95fde0f3",
   "metadata": {},
   "source": [
    "# Data setting Before model train"
   ]
  },
  {
   "cell_type": "markdown",
   "id": "da663be6",
   "metadata": {},
   "source": [
    "> **label : One-hot-encoding**"
   ]
  },
  {
   "cell_type": "code",
   "execution_count": 40,
   "id": "4e6780c6",
   "metadata": {},
   "outputs": [
    {
     "name": "stdout",
     "output_type": "stream",
     "text": [
      "train_label shape :  (54879, 5)\n"
     ]
    }
   ],
   "source": [
    "train_label = np_utils.to_categorical(y_train)\n",
    "print(\"train_label shape : \" , train_label.shape)"
   ]
  },
  {
   "cell_type": "markdown",
   "id": "14bfd0cf",
   "metadata": {},
   "source": [
    "> **train valid dataset split**"
   ]
  },
  {
   "cell_type": "code",
   "execution_count": 41,
   "id": "936a74b0",
   "metadata": {},
   "outputs": [],
   "source": [
    "train_input, valid_input, train_label, valid_label = train_test_split(\n",
    "    train_input, train_label, test_size=0.2, random_state=42, stratify=train_label)"
   ]
  },
  {
   "cell_type": "code",
   "execution_count": 42,
   "id": "124c70b5",
   "metadata": {},
   "outputs": [
    {
     "name": "stdout",
     "output_type": "stream",
     "text": [
      "train_input shape :  (43903, 150)\n",
      "train_label shape :  (43903, 5)\n",
      "==========================================\n",
      "valid_input shape :  (10976, 150)\n",
      "valid_label shape :  (10976, 5)\n"
     ]
    }
   ],
   "source": [
    "print(\"train_input shape : \" , train_input.shape)\n",
    "print(\"train_label shape : \" , train_label.shape)\n",
    "print(\"==========================================\")\n",
    "print(\"valid_input shape : \" , valid_input.shape)\n",
    "print(\"valid_label shape : \" , valid_label.shape)"
   ]
  },
  {
   "cell_type": "markdown",
   "id": "c54b49c6",
   "metadata": {},
   "source": [
    "# Modeling"
   ]
  },
  {
   "cell_type": "markdown",
   "id": "5e10d7f4",
   "metadata": {},
   "source": [
    "> **parameter setting**"
   ]
  },
  {
   "cell_type": "code",
   "execution_count": 43,
   "id": "a54057c1",
   "metadata": {},
   "outputs": [],
   "source": [
    "epoch = 10\n",
    "batch_size = 100"
   ]
  },
  {
   "cell_type": "markdown",
   "id": "8a8cb179",
   "metadata": {},
   "source": [
    "> **simple RNN**"
   ]
  },
  {
   "cell_type": "code",
   "execution_count": 44,
   "id": "c9013629",
   "metadata": {},
   "outputs": [
    {
     "name": "stderr",
     "output_type": "stream",
     "text": [
      "2022-12-18 17:40:10.770650: I tensorflow/core/platform/cpu_feature_guard.cc:194] This TensorFlow binary is optimized with oneAPI Deep Neural Network Library (oneDNN) to use the following CPU instructions in performance-critical operations:  SSE3 SSE4.1 SSE4.2 AVX\n",
      "To enable them in other operations, rebuild TensorFlow with the appropriate compiler flags.\n",
      "2022-12-18 17:40:11.470311: I tensorflow/core/common_runtime/gpu/gpu_device.cc:1553] Created device /job:localhost/replica:0/task:0/device:GPU:0 with 6988 MB memory:  -> device: 0, name: CUDA GPU, pci bus id: 0000:3f:00.0, compute capability: 7.5\n"
     ]
    }
   ],
   "source": [
    "# Model Bulid\n",
    "model1 = Sequential([Embedding(vocab_size, embedding_dim, input_length = max_length),\n",
    "        tf.keras.layers.SimpleRNN(units = 64, return_sequences = True),\n",
    "        tf.keras.layers.SimpleRNN(units = 64, return_sequences = True),\n",
    "        tf.keras.layers.SimpleRNN(units = 64),\n",
    "        Dense(5, activation='softmax')\n",
    "    ])"
   ]
  },
  {
   "cell_type": "code",
   "execution_count": 45,
   "id": "c5ed3df9",
   "metadata": {},
   "outputs": [],
   "source": [
    "# Model compile\n",
    "model1.compile(loss = 'categorical_crossentropy',\n",
    "              optimizer = 'adam',\n",
    "              metrics = ['accuracy']) "
   ]
  },
  {
   "cell_type": "code",
   "execution_count": 46,
   "id": "47e13f99",
   "metadata": {},
   "outputs": [
    {
     "name": "stdout",
     "output_type": "stream",
     "text": [
      "Model: \"sequential\"\n",
      "_________________________________________________________________\n",
      " Layer (type)                Output Shape              Param #   \n",
      "=================================================================\n",
      " embedding (Embedding)       (None, 150, 200)          400000    \n",
      "                                                                 \n",
      " simple_rnn (SimpleRNN)      (None, 150, 64)           16960     \n",
      "                                                                 \n",
      " simple_rnn_1 (SimpleRNN)    (None, 150, 64)           8256      \n",
      "                                                                 \n",
      " simple_rnn_2 (SimpleRNN)    (None, 64)                8256      \n",
      "                                                                 \n",
      " dense (Dense)               (None, 5)                 325       \n",
      "                                                                 \n",
      "=================================================================\n",
      "Total params: 433,797\n",
      "Trainable params: 433,797\n",
      "Non-trainable params: 0\n",
      "_________________________________________________________________\n"
     ]
    }
   ],
   "source": [
    "# model summary\n",
    "model1.summary()"
   ]
  },
  {
   "cell_type": "code",
   "execution_count": 47,
   "id": "2877d6d9",
   "metadata": {},
   "outputs": [
    {
     "name": "stdout",
     "output_type": "stream",
     "text": [
      "Epoch 1/10\n",
      "440/440 [==============================] - 166s 373ms/step - loss: 1.5793 - accuracy: 0.2633 - val_loss: 1.5754 - val_accuracy: 0.2745\n",
      "Epoch 2/10\n",
      "440/440 [==============================] - 165s 375ms/step - loss: 1.5760 - accuracy: 0.2676 - val_loss: 1.5731 - val_accuracy: 0.2745\n",
      "Epoch 3/10\n",
      "440/440 [==============================] - 165s 375ms/step - loss: 1.5759 - accuracy: 0.2656 - val_loss: 1.5700 - val_accuracy: 0.2745\n",
      "Epoch 4/10\n",
      "440/440 [==============================] - 165s 374ms/step - loss: 1.5724 - accuracy: 0.2687 - val_loss: 1.5711 - val_accuracy: 0.2668\n",
      "Epoch 5/10\n",
      "440/440 [==============================] - 165s 375ms/step - loss: 1.5725 - accuracy: 0.2690 - val_loss: 1.5742 - val_accuracy: 0.2669\n",
      "Epoch 6/10\n",
      "440/440 [==============================] - 169s 385ms/step - loss: 1.5717 - accuracy: 0.2709 - val_loss: 1.5704 - val_accuracy: 0.2669\n",
      "Epoch 7/10\n",
      "440/440 [==============================] - 165s 375ms/step - loss: 1.5724 - accuracy: 0.2700 - val_loss: 1.5691 - val_accuracy: 0.2745\n",
      "Epoch 8/10\n",
      "440/440 [==============================] - 166s 377ms/step - loss: 1.5721 - accuracy: 0.2689 - val_loss: 1.5697 - val_accuracy: 0.2745\n",
      "Epoch 9/10\n",
      "440/440 [==============================] - 165s 376ms/step - loss: 1.5718 - accuracy: 0.2711 - val_loss: 1.5744 - val_accuracy: 0.2505\n",
      "Epoch 10/10\n",
      "440/440 [==============================] - 166s 378ms/step - loss: 1.5726 - accuracy: 0.2677 - val_loss: 1.5740 - val_accuracy: 0.2745\n"
     ]
    }
   ],
   "source": [
    "# model train\n",
    "history = model1.fit(train_input, train_label,\n",
    "                    validation_data=(valid_input, valid_label),\n",
    "                    epochs=epoch,\n",
    "                    batch_size=batch_size)"
   ]
  },
  {
   "cell_type": "code",
   "execution_count": 48,
   "id": "87796927",
   "metadata": {},
   "outputs": [
    {
     "data": {
      "text/html": [
       "<div>\n",
       "<style scoped>\n",
       "    .dataframe tbody tr th:only-of-type {\n",
       "        vertical-align: middle;\n",
       "    }\n",
       "\n",
       "    .dataframe tbody tr th {\n",
       "        vertical-align: top;\n",
       "    }\n",
       "\n",
       "    .dataframe thead th {\n",
       "        text-align: right;\n",
       "    }\n",
       "</style>\n",
       "<table border=\"1\" class=\"dataframe\">\n",
       "  <thead>\n",
       "    <tr style=\"text-align: right;\">\n",
       "      <th></th>\n",
       "      <th>loss</th>\n",
       "      <th>accuracy</th>\n",
       "      <th>val_loss</th>\n",
       "      <th>val_accuracy</th>\n",
       "    </tr>\n",
       "  </thead>\n",
       "  <tbody>\n",
       "    <tr>\n",
       "      <th>7</th>\n",
       "      <td>1.572135</td>\n",
       "      <td>0.268865</td>\n",
       "      <td>1.569712</td>\n",
       "      <td>0.274508</td>\n",
       "    </tr>\n",
       "    <tr>\n",
       "      <th>8</th>\n",
       "      <td>1.571792</td>\n",
       "      <td>0.271098</td>\n",
       "      <td>1.574441</td>\n",
       "      <td>0.250547</td>\n",
       "    </tr>\n",
       "    <tr>\n",
       "      <th>9</th>\n",
       "      <td>1.572636</td>\n",
       "      <td>0.267658</td>\n",
       "      <td>1.573954</td>\n",
       "      <td>0.274508</td>\n",
       "    </tr>\n",
       "  </tbody>\n",
       "</table>\n",
       "</div>"
      ],
      "text/plain": [
       "       loss  accuracy  val_loss  val_accuracy\n",
       "7  1.572135  0.268865  1.569712      0.274508\n",
       "8  1.571792  0.271098  1.574441      0.250547\n",
       "9  1.572636  0.267658  1.573954      0.274508"
      ]
     },
     "execution_count": 48,
     "metadata": {},
     "output_type": "execute_result"
    }
   ],
   "source": [
    "# train result visualization\n",
    "df_history1 = pd.DataFrame(history.history)\n",
    "df_history1.tail(3)"
   ]
  },
  {
   "cell_type": "code",
   "execution_count": 49,
   "id": "a6154f7f",
   "metadata": {},
   "outputs": [
    {
     "data": {
      "image/png": "[encoded data removed]",
      "text/plain": [
       "<Figure size 1500x500 with 2 Axes>"
      ]
     },
     "metadata": {},
     "output_type": "display_data"
    }
   ],
   "source": [
    "fig, axes = plt.subplots(1,2,figsize=(15,5))\n",
    "\n",
    "# loss \n",
    "sns.lineplot(data=df_history1, x=df_history1.index, y='loss',label='loss', color='blue', ax=axes[0])\n",
    "sns.lineplot(data=df_history1, x=df_history1.index, y='val_loss',label='val_loss', color='red', ax=axes[0])\n",
    "axes[0].set_title('Loss of Simple RNN (model1) ', fontsize= 15)\n",
    "axes[0].set_xlabel('Epoch')\n",
    "\n",
    "# accuracy\n",
    "sns.lineplot(data=df_history1, x=df_history1.index, y='accuracy',label='accuracy', color='blue', ax=axes[1])\n",
    "sns.lineplot(data=df_history1, x=df_history1.index, y='val_accuracy',label='val_accuracy', color='red', ax=axes[1])\n",
    "axes[1].set_title('Accuracy of Simple RNN (model1) ', fontsize= 15)\n",
    "axes[1].set_xlabel('Epoch')\n",
    "\n",
    "fig.show()"
   ]
  },
  {
   "cell_type": "markdown",
   "id": "6e3ba310",
   "metadata": {},
   "source": [
    "> **단방향 LSTM**"
   ]
  },
  {
   "cell_type": "code",
   "execution_count": 50,
   "id": "2491666f",
   "metadata": {},
   "outputs": [],
   "source": [
    "# Model Bulid\n",
    "model2 = Sequential([Embedding(vocab_size, embedding_dim, input_length =max_length),\n",
    "        tf.keras.layers.LSTM(units = 64, return_sequences = True),\n",
    "        tf.keras.layers.LSTM(units = 64, return_sequences = True),\n",
    "        tf.keras.layers.LSTM(units = 64),\n",
    "        Dense(5, activation='softmax')\n",
    "    ])"
   ]
  },
  {
   "cell_type": "code",
   "execution_count": 51,
   "id": "cb8a4ade",
   "metadata": {},
   "outputs": [],
   "source": [
    "# Model compile\n",
    "model2.compile(loss = 'categorical_crossentropy',\n",
    "              optimizer = 'adam',\n",
    "              metrics = ['accuracy']) "
   ]
  },
  {
   "cell_type": "code",
   "execution_count": 52,
   "id": "0f7442f2",
   "metadata": {},
   "outputs": [
    {
     "name": "stdout",
     "output_type": "stream",
     "text": [
      "Model: \"sequential_1\"\n",
      "_________________________________________________________________\n",
      " Layer (type)                Output Shape              Param #   \n",
      "=================================================================\n",
      " embedding_1 (Embedding)     (None, 150, 200)          400000    \n",
      "                                                                 \n",
      " lstm (LSTM)                 (None, 150, 64)           67840     \n",
      "                                                                 \n",
      " lstm_1 (LSTM)               (None, 150, 64)           33024     \n",
      "                                                                 \n",
      " lstm_2 (LSTM)               (None, 64)                33024     \n",
      "                                                                 \n",
      " dense_1 (Dense)             (None, 5)                 325       \n",
      "                                                                 \n",
      "=================================================================\n",
      "Total params: 534,213\n",
      "Trainable params: 534,213\n",
      "Non-trainable params: 0\n",
      "_________________________________________________________________\n"
     ]
    }
   ],
   "source": [
    "# model summary\n",
    "model2.summary()"
   ]
  },
  {
   "cell_type": "code",
   "execution_count": 53,
   "id": "4de9f49e",
   "metadata": {},
   "outputs": [
    {
     "name": "stdout",
     "output_type": "stream",
     "text": [
      "Epoch 1/10\n"
     ]
    },
    {
     "name": "stderr",
     "output_type": "stream",
     "text": [
      "2022-12-18 18:07:54.851046: I tensorflow/stream_executor/cuda/cuda_dnn.cc:424] Loaded cuDNN version 8600\n"
     ]
    },
    {
     "name": "stdout",
     "output_type": "stream",
     "text": [
      "440/440 [==============================] - 15s 25ms/step - loss: 1.5726 - accuracy: 0.2722 - val_loss: 1.5711 - val_accuracy: 0.2745\n",
      "Epoch 2/10\n",
      "440/440 [==============================] - 10s 22ms/step - loss: 1.5709 - accuracy: 0.2745 - val_loss: 1.5708 - val_accuracy: 0.2745\n",
      "Epoch 3/10\n",
      "440/440 [==============================] - 10s 22ms/step - loss: 1.5710 - accuracy: 0.2745 - val_loss: 1.5706 - val_accuracy: 0.2745\n",
      "Epoch 4/10\n",
      "440/440 [==============================] - 10s 23ms/step - loss: 1.5708 - accuracy: 0.2745 - val_loss: 1.5714 - val_accuracy: 0.2745\n",
      "Epoch 5/10\n",
      "440/440 [==============================] - 10s 23ms/step - loss: 1.5707 - accuracy: 0.2745 - val_loss: 1.5703 - val_accuracy: 0.2745\n",
      "Epoch 6/10\n",
      "440/440 [==============================] - 10s 22ms/step - loss: 1.5707 - accuracy: 0.2745 - val_loss: 1.5705 - val_accuracy: 0.2745\n",
      "Epoch 7/10\n",
      "440/440 [==============================] - 10s 22ms/step - loss: 1.5706 - accuracy: 0.2745 - val_loss: 1.5704 - val_accuracy: 0.2745\n",
      "Epoch 8/10\n",
      "440/440 [==============================] - 10s 23ms/step - loss: 1.5706 - accuracy: 0.2745 - val_loss: 1.5704 - val_accuracy: 0.2745\n",
      "Epoch 9/10\n",
      "440/440 [==============================] - 10s 23ms/step - loss: 1.5708 - accuracy: 0.2745 - val_loss: 1.5703 - val_accuracy: 0.2745\n",
      "Epoch 10/10\n",
      "440/440 [==============================] - 10s 23ms/step - loss: 1.5706 - accuracy: 0.2745 - val_loss: 1.5707 - val_accuracy: 0.2745\n"
     ]
    }
   ],
   "source": [
    "# model train\n",
    "history = model2.fit(train_input, train_label,\n",
    "                    validation_data=(valid_input, valid_label),\n",
    "                    epochs=epoch,\n",
    "                    batch_size=batch_size)"
   ]
  },
  {
   "cell_type": "code",
   "execution_count": 54,
   "id": "6d88eba9",
   "metadata": {},
   "outputs": [
    {
     "data": {
      "text/html": [
       "<div>\n",
       "<style scoped>\n",
       "    .dataframe tbody tr th:only-of-type {\n",
       "        vertical-align: middle;\n",
       "    }\n",
       "\n",
       "    .dataframe tbody tr th {\n",
       "        vertical-align: top;\n",
       "    }\n",
       "\n",
       "    .dataframe thead th {\n",
       "        text-align: right;\n",
       "    }\n",
       "</style>\n",
       "<table border=\"1\" class=\"dataframe\">\n",
       "  <thead>\n",
       "    <tr style=\"text-align: right;\">\n",
       "      <th></th>\n",
       "      <th>loss</th>\n",
       "      <th>accuracy</th>\n",
       "      <th>val_loss</th>\n",
       "      <th>val_accuracy</th>\n",
       "    </tr>\n",
       "  </thead>\n",
       "  <tbody>\n",
       "    <tr>\n",
       "      <th>7</th>\n",
       "      <td>1.570592</td>\n",
       "      <td>0.274469</td>\n",
       "      <td>1.570394</td>\n",
       "      <td>0.274508</td>\n",
       "    </tr>\n",
       "    <tr>\n",
       "      <th>8</th>\n",
       "      <td>1.570760</td>\n",
       "      <td>0.274469</td>\n",
       "      <td>1.570283</td>\n",
       "      <td>0.274508</td>\n",
       "    </tr>\n",
       "    <tr>\n",
       "      <th>9</th>\n",
       "      <td>1.570599</td>\n",
       "      <td>0.274469</td>\n",
       "      <td>1.570661</td>\n",
       "      <td>0.274508</td>\n",
       "    </tr>\n",
       "  </tbody>\n",
       "</table>\n",
       "</div>"
      ],
      "text/plain": [
       "       loss  accuracy  val_loss  val_accuracy\n",
       "7  1.570592  0.274469  1.570394      0.274508\n",
       "8  1.570760  0.274469  1.570283      0.274508\n",
       "9  1.570599  0.274469  1.570661      0.274508"
      ]
     },
     "execution_count": 54,
     "metadata": {},
     "output_type": "execute_result"
    }
   ],
   "source": [
    "# train result visualization\n",
    "df_history2 = pd.DataFrame(history.history)\n",
    "df_history2.tail(3)"
   ]
  },
  {
   "cell_type": "code",
   "execution_count": 55,
   "id": "3a180357",
   "metadata": {},
   "outputs": [
    {
     "data": {
      "image/png": "[encoded data removed]",
      "text/plain": [
       "<Figure size 1500x500 with 2 Axes>"
      ]
     },
     "metadata": {},
     "output_type": "display_data"
    }
   ],
   "source": [
    "fig, axes = plt.subplots(1,2,figsize=(15,5))\n",
    "\n",
    "# loss \n",
    "sns.lineplot(data=df_history2, x=df_history2.index, y='loss',label='loss', color='blue', ax=axes[0])\n",
    "sns.lineplot(data=df_history2, x=df_history2.index, y='val_loss',label='val_loss', color='red', ax=axes[0])\n",
    "axes[0].set_title('Loss of LSTM (model2) ', fontsize= 15)\n",
    "axes[0].set_xlabel('Epoch')\n",
    "\n",
    "# accuracy\n",
    "sns.lineplot(data=df_history2, x=df_history2.index, y='accuracy',label='accuracy', color='blue', ax=axes[1])\n",
    "sns.lineplot(data=df_history2, x=df_history2.index, y='val_accuracy',label='val_accuracy', color='red', ax=axes[1])\n",
    "axes[1].set_title('Accuracy of LSTM (model2) ', fontsize= 15)\n",
    "axes[1].set_xlabel('Epoch')\n",
    "\n",
    "fig.show()"
   ]
  },
  {
   "cell_type": "markdown",
   "id": "bb78ab63",
   "metadata": {},
   "source": [
    "> **양방향 LSTM**"
   ]
  },
  {
   "cell_type": "code",
   "execution_count": 56,
   "id": "0f2ca550",
   "metadata": {},
   "outputs": [],
   "source": [
    "# Model Bulid\n",
    "model3 = Sequential([Embedding(vocab_size, embedding_dim, input_length =max_length),\n",
    "        tf.keras.layers.Bidirectional(LSTM(units = 64, return_sequences = True)),\n",
    "        tf.keras.layers.Bidirectional(LSTM(units = 64, return_sequences = True)),\n",
    "        tf.keras.layers.Bidirectional(LSTM(units = 64)),\n",
    "        Dense(5, activation='softmax')\n",
    "    ])"
   ]
  },
  {
   "cell_type": "code",
   "execution_count": 57,
   "id": "4f39fa1b",
   "metadata": {},
   "outputs": [],
   "source": [
    "# Model compile\n",
    "model3.compile(loss = 'categorical_crossentropy',\n",
    "              optimizer = 'adam',\n",
    "              metrics = ['accuracy']) "
   ]
  },
  {
   "cell_type": "code",
   "execution_count": 58,
   "id": "582b6a75",
   "metadata": {
    "scrolled": true
   },
   "outputs": [
    {
     "name": "stdout",
     "output_type": "stream",
     "text": [
      "Model: \"sequential_2\"\n",
      "_________________________________________________________________\n",
      " Layer (type)                Output Shape              Param #   \n",
      "=================================================================\n",
      " embedding_2 (Embedding)     (None, 150, 200)          400000    \n",
      "                                                                 \n",
      " bidirectional (Bidirectiona  (None, 150, 128)         135680    \n",
      " l)                                                              \n",
      "                                                                 \n",
      " bidirectional_1 (Bidirectio  (None, 150, 128)         98816     \n",
      " nal)                                                            \n",
      "                                                                 \n",
      " bidirectional_2 (Bidirectio  (None, 128)              98816     \n",
      " nal)                                                            \n",
      "                                                                 \n",
      " dense_2 (Dense)             (None, 5)                 645       \n",
      "                                                                 \n",
      "=================================================================\n",
      "Total params: 733,957\n",
      "Trainable params: 733,957\n",
      "Non-trainable params: 0\n",
      "_________________________________________________________________\n"
     ]
    }
   ],
   "source": [
    "# model summary\n",
    "model3.summary()"
   ]
  },
  {
   "cell_type": "code",
   "execution_count": 59,
   "id": "60614f52",
   "metadata": {},
   "outputs": [
    {
     "name": "stdout",
     "output_type": "stream",
     "text": [
      "Epoch 1/50\n",
      "440/440 [==============================] - 26s 43ms/step - loss: 1.1177 - accuracy: 0.5425 - val_loss: 0.9575 - val_accuracy: 0.6331\n",
      "Epoch 2/50\n",
      "440/440 [==============================] - 17s 39ms/step - loss: 0.8664 - accuracy: 0.6651 - val_loss: 0.9105 - val_accuracy: 0.6516\n",
      "Epoch 3/50\n",
      "440/440 [==============================] - 17s 40ms/step - loss: 0.8005 - accuracy: 0.6939 - val_loss: 0.9060 - val_accuracy: 0.6532\n",
      "Epoch 4/50\n",
      "440/440 [==============================] - 17s 39ms/step - loss: 0.7625 - accuracy: 0.7069 - val_loss: 0.9240 - val_accuracy: 0.6499\n",
      "Epoch 5/50\n",
      "440/440 [==============================] - 17s 39ms/step - loss: 0.7272 - accuracy: 0.7186 - val_loss: 0.9127 - val_accuracy: 0.6530\n",
      "Epoch 6/50\n",
      "440/440 [==============================] - 17s 39ms/step - loss: 0.6991 - accuracy: 0.7304 - val_loss: 0.9346 - val_accuracy: 0.6481\n",
      "Epoch 7/50\n",
      "440/440 [==============================] - 17s 39ms/step - loss: 0.6719 - accuracy: 0.7415 - val_loss: 0.9537 - val_accuracy: 0.6491\n",
      "Epoch 8/50\n",
      "440/440 [==============================] - 17s 39ms/step - loss: 0.6440 - accuracy: 0.7522 - val_loss: 1.0180 - val_accuracy: 0.6371\n",
      "Epoch 9/50\n",
      "440/440 [==============================] - 17s 39ms/step - loss: 0.6141 - accuracy: 0.7617 - val_loss: 1.0276 - val_accuracy: 0.6430\n",
      "Epoch 10/50\n",
      "440/440 [==============================] - 17s 39ms/step - loss: 0.5845 - accuracy: 0.7740 - val_loss: 1.0580 - val_accuracy: 0.6434\n",
      "Epoch 11/50\n",
      "440/440 [==============================] - 17s 39ms/step - loss: 0.5571 - accuracy: 0.7833 - val_loss: 1.1106 - val_accuracy: 0.6333\n",
      "Epoch 12/50\n",
      "440/440 [==============================] - 17s 39ms/step - loss: 0.5251 - accuracy: 0.7968 - val_loss: 1.1753 - val_accuracy: 0.6303\n",
      "Epoch 13/50\n",
      "440/440 [==============================] - 17s 39ms/step - loss: 0.4934 - accuracy: 0.8098 - val_loss: 1.2366 - val_accuracy: 0.6254\n",
      "Epoch 14/50\n",
      "440/440 [==============================] - 17s 39ms/step - loss: 0.4734 - accuracy: 0.8170 - val_loss: 1.2584 - val_accuracy: 0.6338\n",
      "Epoch 15/50\n",
      "440/440 [==============================] - 17s 39ms/step - loss: 0.4462 - accuracy: 0.8286 - val_loss: 1.3215 - val_accuracy: 0.6306\n",
      "Epoch 16/50\n",
      "440/440 [==============================] - 17s 39ms/step - loss: 0.4154 - accuracy: 0.8394 - val_loss: 1.4300 - val_accuracy: 0.6259\n",
      "Epoch 17/50\n",
      "440/440 [==============================] - 17s 39ms/step - loss: 0.3962 - accuracy: 0.8468 - val_loss: 1.4476 - val_accuracy: 0.6259\n",
      "Epoch 18/50\n",
      "440/440 [==============================] - 18s 41ms/step - loss: 0.3719 - accuracy: 0.8567 - val_loss: 1.5565 - val_accuracy: 0.6160\n",
      "Epoch 19/50\n",
      "440/440 [==============================] - 17s 39ms/step - loss: 0.3559 - accuracy: 0.8643 - val_loss: 1.6002 - val_accuracy: 0.6200\n",
      "Epoch 20/50\n",
      "440/440 [==============================] - 17s 39ms/step - loss: 0.3238 - accuracy: 0.8757 - val_loss: 1.7067 - val_accuracy: 0.6153\n",
      "Epoch 21/50\n",
      "440/440 [==============================] - 17s 39ms/step - loss: 0.3043 - accuracy: 0.8825 - val_loss: 1.7933 - val_accuracy: 0.6183\n",
      "Epoch 22/50\n",
      "440/440 [==============================] - 17s 39ms/step - loss: 0.2853 - accuracy: 0.8900 - val_loss: 1.8680 - val_accuracy: 0.6115\n",
      "Epoch 23/50\n",
      "440/440 [==============================] - 17s 39ms/step - loss: 0.2735 - accuracy: 0.8958 - val_loss: 1.9703 - val_accuracy: 0.6126\n",
      "Epoch 24/50\n",
      "440/440 [==============================] - 17s 39ms/step - loss: 0.2759 - accuracy: 0.8947 - val_loss: 1.9497 - val_accuracy: 0.6114\n",
      "Epoch 25/50\n",
      "440/440 [==============================] - 17s 39ms/step - loss: 0.2289 - accuracy: 0.9124 - val_loss: 2.1176 - val_accuracy: 0.6142\n",
      "Epoch 26/50\n",
      "440/440 [==============================] - 17s 39ms/step - loss: 0.2186 - accuracy: 0.9163 - val_loss: 2.1958 - val_accuracy: 0.6091\n",
      "Epoch 27/50\n",
      "440/440 [==============================] - 17s 39ms/step - loss: 0.2222 - accuracy: 0.9159 - val_loss: 2.1604 - val_accuracy: 0.6160\n",
      "Epoch 28/50\n",
      "440/440 [==============================] - 17s 39ms/step - loss: 0.2075 - accuracy: 0.9209 - val_loss: 2.2350 - val_accuracy: 0.6124\n",
      "Epoch 29/50\n",
      "440/440 [==============================] - 17s 39ms/step - loss: 0.1964 - accuracy: 0.9266 - val_loss: 2.2201 - val_accuracy: 0.6091\n",
      "Epoch 30/50\n",
      "440/440 [==============================] - 17s 39ms/step - loss: 0.1789 - accuracy: 0.9324 - val_loss: 2.4361 - val_accuracy: 0.6099\n",
      "Epoch 31/50\n",
      "440/440 [==============================] - 17s 39ms/step - loss: 0.1726 - accuracy: 0.9354 - val_loss: 2.4650 - val_accuracy: 0.6112\n",
      "Epoch 32/50\n",
      "440/440 [==============================] - 17s 39ms/step - loss: 0.1729 - accuracy: 0.9358 - val_loss: 2.4920 - val_accuracy: 0.6135\n",
      "Epoch 33/50\n",
      "440/440 [==============================] - 17s 39ms/step - loss: 0.1555 - accuracy: 0.9415 - val_loss: 2.5403 - val_accuracy: 0.6116\n",
      "Epoch 34/50\n",
      "440/440 [==============================] - 17s 39ms/step - loss: 0.1391 - accuracy: 0.9479 - val_loss: 2.6403 - val_accuracy: 0.6090\n",
      "Epoch 35/50\n",
      "440/440 [==============================] - 17s 39ms/step - loss: 0.1393 - accuracy: 0.9472 - val_loss: 2.7085 - val_accuracy: 0.6064\n",
      "Epoch 36/50\n",
      "440/440 [==============================] - 17s 39ms/step - loss: 0.1436 - accuracy: 0.9459 - val_loss: 2.6107 - val_accuracy: 0.6041\n",
      "Epoch 37/50\n",
      "440/440 [==============================] - 17s 39ms/step - loss: 0.1364 - accuracy: 0.9496 - val_loss: 2.6560 - val_accuracy: 0.6081\n",
      "Epoch 38/50\n",
      "440/440 [==============================] - 17s 39ms/step - loss: 0.1217 - accuracy: 0.9539 - val_loss: 2.7733 - val_accuracy: 0.6063\n",
      "Epoch 39/50\n",
      "440/440 [==============================] - 17s 39ms/step - loss: 0.1201 - accuracy: 0.9549 - val_loss: 2.7747 - val_accuracy: 0.6065\n",
      "Epoch 40/50\n",
      "440/440 [==============================] - 17s 39ms/step - loss: 0.1140 - accuracy: 0.9571 - val_loss: 2.8199 - val_accuracy: 0.6084\n",
      "Epoch 41/50\n",
      "440/440 [==============================] - 17s 39ms/step - loss: 0.1051 - accuracy: 0.9602 - val_loss: 2.8838 - val_accuracy: 0.6075\n",
      "Epoch 42/50\n",
      "440/440 [==============================] - 17s 39ms/step - loss: 0.1015 - accuracy: 0.9621 - val_loss: 2.9743 - val_accuracy: 0.6052\n",
      "Epoch 43/50\n",
      "440/440 [==============================] - 17s 39ms/step - loss: 0.1088 - accuracy: 0.9597 - val_loss: 2.9044 - val_accuracy: 0.5995\n",
      "Epoch 44/50\n",
      "440/440 [==============================] - 17s 39ms/step - loss: 0.1090 - accuracy: 0.9604 - val_loss: 2.8958 - val_accuracy: 0.6060\n",
      "Epoch 45/50\n",
      "440/440 [==============================] - 17s 39ms/step - loss: 0.0866 - accuracy: 0.9679 - val_loss: 3.1036 - val_accuracy: 0.6030\n",
      "Epoch 46/50\n",
      "440/440 [==============================] - 17s 39ms/step - loss: 0.0842 - accuracy: 0.9692 - val_loss: 3.1341 - val_accuracy: 0.6030\n",
      "Epoch 47/50\n",
      "440/440 [==============================] - 17s 39ms/step - loss: 0.0952 - accuracy: 0.9646 - val_loss: 3.0756 - val_accuracy: 0.6001\n",
      "Epoch 48/50\n",
      "440/440 [==============================] - 17s 39ms/step - loss: 0.0892 - accuracy: 0.9673 - val_loss: 3.1195 - val_accuracy: 0.6023\n",
      "Epoch 49/50\n",
      "440/440 [==============================] - 17s 39ms/step - loss: 0.0814 - accuracy: 0.9692 - val_loss: 3.1705 - val_accuracy: 0.6018\n",
      "Epoch 50/50\n",
      "440/440 [==============================] - 17s 39ms/step - loss: 0.0750 - accuracy: 0.9720 - val_loss: 3.3261 - val_accuracy: 0.6042\n"
     ]
    }
   ],
   "source": [
    "# model train\n",
    "history = model3.fit(train_input, train_label,\n",
    "                    validation_data=(valid_input, valid_label),\n",
    "                    epochs=epoch+40,\n",
    "                    batch_size=batch_size)"
   ]
  },
  {
   "cell_type": "code",
   "execution_count": 60,
   "id": "9b279f6f",
   "metadata": {},
   "outputs": [
    {
     "data": {
      "text/html": [
       "<div>\n",
       "<style scoped>\n",
       "    .dataframe tbody tr th:only-of-type {\n",
       "        vertical-align: middle;\n",
       "    }\n",
       "\n",
       "    .dataframe tbody tr th {\n",
       "        vertical-align: top;\n",
       "    }\n",
       "\n",
       "    .dataframe thead th {\n",
       "        text-align: right;\n",
       "    }\n",
       "</style>\n",
       "<table border=\"1\" class=\"dataframe\">\n",
       "  <thead>\n",
       "    <tr style=\"text-align: right;\">\n",
       "      <th></th>\n",
       "      <th>loss</th>\n",
       "      <th>accuracy</th>\n",
       "      <th>val_loss</th>\n",
       "      <th>val_accuracy</th>\n",
       "    </tr>\n",
       "  </thead>\n",
       "  <tbody>\n",
       "    <tr>\n",
       "      <th>47</th>\n",
       "      <td>0.089229</td>\n",
       "      <td>0.967269</td>\n",
       "      <td>3.119460</td>\n",
       "      <td>0.602314</td>\n",
       "    </tr>\n",
       "    <tr>\n",
       "      <th>48</th>\n",
       "      <td>0.081358</td>\n",
       "      <td>0.969228</td>\n",
       "      <td>3.170521</td>\n",
       "      <td>0.601767</td>\n",
       "    </tr>\n",
       "    <tr>\n",
       "      <th>49</th>\n",
       "      <td>0.074983</td>\n",
       "      <td>0.971984</td>\n",
       "      <td>3.326131</td>\n",
       "      <td>0.604227</td>\n",
       "    </tr>\n",
       "  </tbody>\n",
       "</table>\n",
       "</div>"
      ],
      "text/plain": [
       "        loss  accuracy  val_loss  val_accuracy\n",
       "47  0.089229  0.967269  3.119460      0.602314\n",
       "48  0.081358  0.969228  3.170521      0.601767\n",
       "49  0.074983  0.971984  3.326131      0.604227"
      ]
     },
     "execution_count": 60,
     "metadata": {},
     "output_type": "execute_result"
    }
   ],
   "source": [
    "# train result visualization\n",
    "df_history3 = pd.DataFrame(history.history)\n",
    "df_history3.tail(3)"
   ]
  },
  {
   "cell_type": "code",
   "execution_count": 61,
   "id": "6f917f98",
   "metadata": {},
   "outputs": [
    {
     "data": {
      "image/png": "[encoded data removed]",
      "text/plain": [
       "<Figure size 1500x500 with 2 Axes>"
      ]
     },
     "metadata": {},
     "output_type": "display_data"
    }
   ],
   "source": [
    "fig, axes = plt.subplots(1,2,figsize=(15,5))\n",
    "\n",
    "# loss \n",
    "sns.lineplot(data=df_history3, x=df_history3.index, y='loss',label='loss', color='blue', ax=axes[0])\n",
    "sns.lineplot(data=df_history3, x=df_history3.index, y='val_loss',label='val_loss', color='red', ax=axes[0])\n",
    "axes[0].set_title('Loss of Bidirectional LSTM (model3) ', fontsize= 15)\n",
    "axes[0].set_xlabel('Epoch')\n",
    "\n",
    "# accuracy\n",
    "sns.lineplot(data=df_history3, x=df_history3.index, y='accuracy',label='accuracy', color='blue', ax=axes[1])\n",
    "sns.lineplot(data=df_history3, x=df_history3.index, y='val_accuracy',label='val_accuracy', color='red', ax=axes[1])\n",
    "axes[1].set_title('Accuracy of Bidirectional LSTM (model3) ', fontsize= 15)\n",
    "axes[1].set_xlabel('Epoch')\n",
    "\n",
    "fig.show()"
   ]
  },
  {
   "cell_type": "markdown",
   "id": "c1ef7a7d",
   "metadata": {},
   "source": [
    "* 중간에 과적합이 일어난 것 같은 양상을 보인다.    \n",
    "* model 1~3 중 3이 가장 좋은 성능을 보인다.    \n",
    "\n",
    "**과적합을 방지하기 위해 교차 검증을 통해 모델 일반화를 시도하자**"
   ]
  },
  {
   "cell_type": "markdown",
   "id": "578b61db",
   "metadata": {},
   "source": [
    "> **교차 검증 적용 모델**"
   ]
  },
  {
   "cell_type": "code",
   "execution_count": 62,
   "id": "77b1ec65",
   "metadata": {},
   "outputs": [],
   "source": [
    "fold = 5\n",
    "epoch = 10\n",
    "batch_size = 512"
   ]
  },
  {
   "cell_type": "code",
   "execution_count": 63,
   "id": "2a2a128b",
   "metadata": {},
   "outputs": [
    {
     "name": "stdout",
     "output_type": "stream",
     "text": [
      "<Before concat>\n",
      "train_input shape : (43903, 150)\n",
      "valid_input shape : (10976, 150)\n",
      "train_label shape : (43903, 5)\n",
      "valid_label shape : (10976, 5)\n",
      "================================\n",
      "<After concat>\n",
      "train_input shape : (54879, 150)\n",
      "train_label shape : (54879, 5)\n",
      "================================\n"
     ]
    }
   ],
   "source": [
    "# 나눴던 train, valid 합치기\n",
    "print(f\"<Before concat>\\ntrain_input shape : {train_input.shape}\\nvalid_input shape : {valid_input.shape}\")\n",
    "print(f\"train_label shape : {train_label.shape}\\nvalid_label shape : {valid_label.shape}\")\n",
    "print(\"================================\")\n",
    "train_input = np.concatenate((train_input,valid_input),axis=0)\n",
    "train_label = np.concatenate((train_label,valid_label),axis=0)\n",
    "print(f\"<After concat>\\ntrain_input shape : {train_input.shape}\\ntrain_label shape : {train_label.shape}\")\n",
    "print(\"================================\")"
   ]
  },
  {
   "cell_type": "code",
   "execution_count": 64,
   "id": "b38d8d12",
   "metadata": {},
   "outputs": [],
   "source": [
    "cv = StratifiedKFold(n_splits= fold, shuffle=True, random_state=seed)"
   ]
  },
  {
   "cell_type": "code",
   "execution_count": 65,
   "id": "1b5bd042",
   "metadata": {},
   "outputs": [
    {
     "name": "stdout",
     "output_type": "stream",
     "text": [
      "[[0. 1. 0. 0. 0.]\n",
      " [0. 1. 0. 0. 0.]\n",
      " [0. 0. 0. 1. 0.]\n",
      " [0. 0. 1. 0. 0.]\n",
      " [0. 0. 1. 0. 0.]\n",
      " [0. 0. 0. 1. 0.]\n",
      " [0. 1. 0. 0. 0.]\n",
      " [0. 1. 0. 0. 0.]\n",
      " [0. 1. 0. 0. 0.]\n",
      " [1. 0. 0. 0. 0.]]\n",
      "\n",
      "==After One-hot-eoncoding inverse==\n",
      "\n",
      "[1 1 3 2 2 3 1 1 1 0]\n"
     ]
    }
   ],
   "source": [
    "print(train_label[:10])\n",
    "print(\"\\n==After One-hot-eoncoding inverse==\\n\")\n",
    "print(train_label.argmax(1)[:10])\n",
    "# cv.split에 들어갈 y의 shape는 [n:]이어야 하므로\n",
    "# one-hot-encoding 하였던 것은 inverse하여 삽입해야 함!"
   ]
  },
  {
   "cell_type": "code",
   "execution_count": 66,
   "id": "0e499a5c",
   "metadata": {},
   "outputs": [
    {
     "name": "stdout",
     "output_type": "stream",
     "text": [
      "=================================================\n",
      "1번째 교차 학습\n",
      "=================================================\n",
      "Epoch 1/10\n",
      "86/86 [==============================] - 5s 56ms/step - loss: 0.5346 - accuracy: 0.8961 - val_loss: 0.4328 - val_accuracy: 0.8966\n",
      "Epoch 2/10\n",
      "86/86 [==============================] - 5s 56ms/step - loss: 0.3199 - accuracy: 0.9213 - val_loss: 0.4152 - val_accuracy: 0.9002\n",
      "Epoch 3/10\n",
      "86/86 [==============================] - 5s 56ms/step - loss: 0.2666 - accuracy: 0.9326 - val_loss: 0.4156 - val_accuracy: 0.9000\n",
      "Epoch 4/10\n",
      "86/86 [==============================] - 5s 56ms/step - loss: 0.2328 - accuracy: 0.9398 - val_loss: 0.4217 - val_accuracy: 0.8979\n",
      "Epoch 5/10\n",
      "86/86 [==============================] - 5s 56ms/step - loss: 0.2070 - accuracy: 0.9453 - val_loss: 0.4294 - val_accuracy: 0.8961\n",
      "Epoch 6/10\n",
      "86/86 [==============================] - 5s 56ms/step - loss: 0.1850 - accuracy: 0.9504 - val_loss: 0.4400 - val_accuracy: 0.8949\n",
      "Epoch 7/10\n",
      "86/86 [==============================] - 5s 56ms/step - loss: 0.1664 - accuracy: 0.9541 - val_loss: 0.4528 - val_accuracy: 0.8919\n",
      "Epoch 8/10\n",
      "86/86 [==============================] - 5s 55ms/step - loss: 0.1504 - accuracy: 0.9579 - val_loss: 0.4670 - val_accuracy: 0.8904\n",
      "Epoch 9/10\n",
      "86/86 [==============================] - 5s 56ms/step - loss: 0.1360 - accuracy: 0.9615 - val_loss: 0.4863 - val_accuracy: 0.8878\n",
      "Epoch 10/10\n",
      "86/86 [==============================] - 5s 56ms/step - loss: 0.1238 - accuracy: 0.9644 - val_loss: 0.5022 - val_accuracy: 0.8860\n",
      "=================================================\n",
      "2번째 교차 학습\n",
      "=================================================\n",
      "Epoch 1/10\n",
      "86/86 [==============================] - 5s 56ms/step - loss: 0.2116 - accuracy: 0.9454 - val_loss: 0.1248 - val_accuracy: 0.9647\n",
      "Epoch 2/10\n",
      "86/86 [==============================] - 5s 56ms/step - loss: 0.1664 - accuracy: 0.9557 - val_loss: 0.1312 - val_accuracy: 0.9605\n",
      "Epoch 3/10\n",
      "86/86 [==============================] - 5s 56ms/step - loss: 0.1431 - accuracy: 0.9603 - val_loss: 0.1394 - val_accuracy: 0.9570\n",
      "Epoch 4/10\n",
      "86/86 [==============================] - 5s 56ms/step - loss: 0.1270 - accuracy: 0.9637 - val_loss: 0.1464 - val_accuracy: 0.9544\n",
      "Epoch 5/10\n",
      "86/86 [==============================] - 5s 56ms/step - loss: 0.1143 - accuracy: 0.9668 - val_loss: 0.1570 - val_accuracy: 0.9505\n",
      "Epoch 6/10\n",
      "86/86 [==============================] - 5s 56ms/step - loss: 0.1046 - accuracy: 0.9691 - val_loss: 0.1681 - val_accuracy: 0.9465\n",
      "Epoch 7/10\n",
      "86/86 [==============================] - 5s 56ms/step - loss: 0.0956 - accuracy: 0.9701 - val_loss: 0.1821 - val_accuracy: 0.9421\n",
      "Epoch 8/10\n",
      "86/86 [==============================] - 5s 56ms/step - loss: 0.0885 - accuracy: 0.9722 - val_loss: 0.1907 - val_accuracy: 0.9401\n",
      "Epoch 9/10\n",
      "86/86 [==============================] - 5s 56ms/step - loss: 0.0834 - accuracy: 0.9726 - val_loss: 0.2008 - val_accuracy: 0.9379\n",
      "Epoch 10/10\n",
      "86/86 [==============================] - 5s 56ms/step - loss: 0.0769 - accuracy: 0.9747 - val_loss: 0.2199 - val_accuracy: 0.9337\n",
      "=================================================\n",
      "3번째 교차 학습\n",
      "=================================================\n",
      "Epoch 1/10\n",
      "86/86 [==============================] - 5s 56ms/step - loss: 0.1179 - accuracy: 0.9626 - val_loss: 0.0791 - val_accuracy: 0.9730\n",
      "Epoch 2/10\n",
      "86/86 [==============================] - 5s 56ms/step - loss: 0.0934 - accuracy: 0.9701 - val_loss: 0.0868 - val_accuracy: 0.9681\n",
      "Epoch 3/10\n",
      "86/86 [==============================] - 5s 56ms/step - loss: 0.0794 - accuracy: 0.9742 - val_loss: 0.0902 - val_accuracy: 0.9687\n",
      "Epoch 4/10\n",
      "86/86 [==============================] - 5s 56ms/step - loss: 0.0725 - accuracy: 0.9758 - val_loss: 0.0968 - val_accuracy: 0.9661\n",
      "Epoch 5/10\n",
      "86/86 [==============================] - 5s 56ms/step - loss: 0.0656 - accuracy: 0.9776 - val_loss: 0.1075 - val_accuracy: 0.9623\n",
      "Epoch 6/10\n",
      "86/86 [==============================] - 5s 56ms/step - loss: 0.0612 - accuracy: 0.9789 - val_loss: 0.1153 - val_accuracy: 0.9591\n",
      "Epoch 7/10\n",
      "86/86 [==============================] - 5s 56ms/step - loss: 0.0566 - accuracy: 0.9803 - val_loss: 0.1238 - val_accuracy: 0.9562\n",
      "Epoch 8/10\n",
      "86/86 [==============================] - 5s 56ms/step - loss: 0.0528 - accuracy: 0.9810 - val_loss: 0.1291 - val_accuracy: 0.9550\n",
      "Epoch 9/10\n",
      "86/86 [==============================] - 5s 56ms/step - loss: 0.0509 - accuracy: 0.9818 - val_loss: 0.1356 - val_accuracy: 0.9540\n",
      "Epoch 10/10\n",
      "86/86 [==============================] - 5s 56ms/step - loss: 0.0490 - accuracy: 0.9821 - val_loss: 0.1463 - val_accuracy: 0.9506\n",
      "=================================================\n",
      "4번째 교차 학습\n",
      "=================================================\n",
      "Epoch 1/10\n",
      "86/86 [==============================] - 5s 56ms/step - loss: 0.0898 - accuracy: 0.9685 - val_loss: 0.0912 - val_accuracy: 0.9682\n",
      "Epoch 2/10\n",
      "86/86 [==============================] - 5s 56ms/step - loss: 0.1022 - accuracy: 0.9654 - val_loss: 0.1156 - val_accuracy: 0.9585\n",
      "Epoch 3/10\n",
      "86/86 [==============================] - 5s 56ms/step - loss: 0.0862 - accuracy: 0.9697 - val_loss: 0.1219 - val_accuracy: 0.9554\n",
      "Epoch 4/10\n",
      "86/86 [==============================] - 5s 56ms/step - loss: 0.0686 - accuracy: 0.9754 - val_loss: 0.1350 - val_accuracy: 0.9516\n",
      "Epoch 5/10\n",
      "86/86 [==============================] - 5s 56ms/step - loss: 0.0589 - accuracy: 0.9791 - val_loss: 0.1396 - val_accuracy: 0.9505\n",
      "Epoch 6/10\n",
      "86/86 [==============================] - 5s 56ms/step - loss: 0.0521 - accuracy: 0.9805 - val_loss: 0.1424 - val_accuracy: 0.9492\n",
      "Epoch 7/10\n",
      "86/86 [==============================] - 5s 56ms/step - loss: 0.0479 - accuracy: 0.9816 - val_loss: 0.1430 - val_accuracy: 0.9505\n",
      "Epoch 8/10\n",
      "86/86 [==============================] - 5s 56ms/step - loss: 0.0460 - accuracy: 0.9816 - val_loss: 0.1486 - val_accuracy: 0.9501\n",
      "Epoch 9/10\n",
      "86/86 [==============================] - 5s 56ms/step - loss: 0.0436 - accuracy: 0.9827 - val_loss: 0.1570 - val_accuracy: 0.9490\n",
      "Epoch 10/10\n",
      "86/86 [==============================] - 5s 56ms/step - loss: 0.0425 - accuracy: 0.9830 - val_loss: 0.1620 - val_accuracy: 0.9462\n",
      "=================================================\n",
      "5번째 교차 학습\n",
      "=================================================\n",
      "Epoch 1/10\n",
      "86/86 [==============================] - 5s 56ms/step - loss: 0.1076 - accuracy: 0.9632 - val_loss: 0.0952 - val_accuracy: 0.9667\n",
      "Epoch 2/10\n",
      "86/86 [==============================] - 5s 56ms/step - loss: 0.0931 - accuracy: 0.9670 - val_loss: 0.0953 - val_accuracy: 0.9649\n",
      "Epoch 3/10\n",
      "86/86 [==============================] - 5s 56ms/step - loss: 0.0710 - accuracy: 0.9747 - val_loss: 0.1015 - val_accuracy: 0.9656\n",
      "Epoch 4/10\n",
      "86/86 [==============================] - 5s 56ms/step - loss: 0.0529 - accuracy: 0.9808 - val_loss: 0.0996 - val_accuracy: 0.9646\n",
      "Epoch 5/10\n",
      "86/86 [==============================] - 5s 56ms/step - loss: 0.0452 - accuracy: 0.9826 - val_loss: 0.1004 - val_accuracy: 0.9642\n",
      "Epoch 6/10\n",
      "86/86 [==============================] - 5s 56ms/step - loss: 0.0430 - accuracy: 0.9832 - val_loss: 0.1002 - val_accuracy: 0.9641\n",
      "Epoch 7/10\n",
      "86/86 [==============================] - 5s 56ms/step - loss: 0.0411 - accuracy: 0.9831 - val_loss: 0.1017 - val_accuracy: 0.9638\n",
      "Epoch 8/10\n",
      "86/86 [==============================] - 5s 56ms/step - loss: 0.0400 - accuracy: 0.9836 - val_loss: 0.1046 - val_accuracy: 0.9633\n",
      "Epoch 9/10\n",
      "86/86 [==============================] - 5s 56ms/step - loss: 0.0398 - accuracy: 0.9835 - val_loss: 0.1103 - val_accuracy: 0.9614\n",
      "Epoch 10/10\n",
      "86/86 [==============================] - 5s 56ms/step - loss: 0.0389 - accuracy: 0.9833 - val_loss: 0.1122 - val_accuracy: 0.9617\n"
     ]
    }
   ],
   "source": [
    "for i, (i_train, i_valid) in enumerate(cv.split(train_input, train_label.argmax(1)), start=1):\n",
    "    print(\"=================================================\")\n",
    "    print(f\"{i}번째 교차 학습\")\n",
    "    print(\"=================================================\")\n",
    "    history = model3.fit(train_input[i_train], train_label[i_train],\n",
    "                    validation_data=(train_input[i_valid], train_label[i_valid]),\n",
    "                    epochs=epoch,\n",
    "                    batch_size=batch_size)\n",
    "    if i==1:\n",
    "        total_history = history.history.copy()\n",
    "    else:\n",
    "        total_history['loss'].extend(history.history[\"loss\"])\n",
    "        total_history['accuracy'].extend(history.history[\"accuracy\"])\n",
    "        total_history['val_loss'].extend(history.history[\"val_loss\"])\n",
    "        total_history['val_accuracy'].extend(history.history[\"val_accuracy\"])"
   ]
  },
  {
   "cell_type": "code",
   "execution_count": 67,
   "id": "c1a2f1f5",
   "metadata": {},
   "outputs": [
    {
     "data": {
      "text/html": [
       "<div>\n",
       "<style scoped>\n",
       "    .dataframe tbody tr th:only-of-type {\n",
       "        vertical-align: middle;\n",
       "    }\n",
       "\n",
       "    .dataframe tbody tr th {\n",
       "        vertical-align: top;\n",
       "    }\n",
       "\n",
       "    .dataframe thead th {\n",
       "        text-align: right;\n",
       "    }\n",
       "</style>\n",
       "<table border=\"1\" class=\"dataframe\">\n",
       "  <thead>\n",
       "    <tr style=\"text-align: right;\">\n",
       "      <th></th>\n",
       "      <th>loss</th>\n",
       "      <th>accuracy</th>\n",
       "      <th>val_loss</th>\n",
       "      <th>val_accuracy</th>\n",
       "    </tr>\n",
       "  </thead>\n",
       "  <tbody>\n",
       "    <tr>\n",
       "      <th>47</th>\n",
       "      <td>0.039958</td>\n",
       "      <td>0.983578</td>\n",
       "      <td>0.104616</td>\n",
       "      <td>0.963280</td>\n",
       "    </tr>\n",
       "    <tr>\n",
       "      <th>48</th>\n",
       "      <td>0.039771</td>\n",
       "      <td>0.983509</td>\n",
       "      <td>0.110304</td>\n",
       "      <td>0.961367</td>\n",
       "    </tr>\n",
       "    <tr>\n",
       "      <th>49</th>\n",
       "      <td>0.038900</td>\n",
       "      <td>0.983282</td>\n",
       "      <td>0.112206</td>\n",
       "      <td>0.961731</td>\n",
       "    </tr>\n",
       "  </tbody>\n",
       "</table>\n",
       "</div>"
      ],
      "text/plain": [
       "        loss  accuracy  val_loss  val_accuracy\n",
       "47  0.039958  0.983578  0.104616      0.963280\n",
       "48  0.039771  0.983509  0.110304      0.961367\n",
       "49  0.038900  0.983282  0.112206      0.961731"
      ]
     },
     "execution_count": 67,
     "metadata": {},
     "output_type": "execute_result"
    }
   ],
   "source": [
    "# train result visualization\n",
    "df_history4 = pd.DataFrame(total_history)\n",
    "df_history4.tail(3)"
   ]
  },
  {
   "cell_type": "code",
   "execution_count": 68,
   "id": "5feab720",
   "metadata": {},
   "outputs": [
    {
     "data": {
      "image/png": "[encoded data removed]",
      "text/plain": [
       "<Figure size 1500x500 with 2 Axes>"
      ]
     },
     "metadata": {},
     "output_type": "display_data"
    }
   ],
   "source": [
    "fig, axes = plt.subplots(1,2,figsize=(15,5))\n",
    "\n",
    "# loss \n",
    "sns.lineplot(data=df_history4, x=df_history4.index, y='loss',label='loss', color='blue', ax=axes[0])\n",
    "sns.lineplot(data=df_history4, x=df_history4.index, y='val_loss',label='val_loss', color='red', ax=axes[0])\n",
    "axes[0].set_title('Loss of Bidirectional LSTM (CV model)', fontsize= 15)\n",
    "axes[0].set_xlabel('Epoch')\n",
    "\n",
    "# accuracy\n",
    "sns.lineplot(data=df_history4, x=df_history4.index, y='accuracy',label='accuracy', color='blue', ax=axes[1])\n",
    "sns.lineplot(data=df_history4, x=df_history4.index, y='val_accuracy',label='val_accuracy', color='red', ax=axes[1])\n",
    "axes[1].set_title('Accuracy of Bidirectional LSTM (CV model) ', fontsize= 15)\n",
    "axes[1].set_xlabel('Epoch')\n",
    "\n",
    "fig.show()"
   ]
  },
  {
   "cell_type": "markdown",
   "id": "efc1d814",
   "metadata": {},
   "source": [
    "# CV Model Predict"
   ]
  },
  {
   "cell_type": "code",
   "execution_count": 69,
   "id": "21e9a111",
   "metadata": {},
   "outputs": [
    {
     "data": {
      "text/plain": [
       "(19617, 5)"
      ]
     },
     "execution_count": 69,
     "metadata": {},
     "output_type": "execute_result"
    }
   ],
   "source": [
    "(test_input.shape[0], 5)"
   ]
  },
  {
   "cell_type": "code",
   "execution_count": 70,
   "id": "4277d30d",
   "metadata": {},
   "outputs": [
    {
     "data": {
      "text/plain": [
       "array([[0., 0., 0., 0., 0.],\n",
       "       [0., 0., 0., 0., 0.],\n",
       "       [0., 0., 0., 0., 0.],\n",
       "       ...,\n",
       "       [0., 0., 0., 0., 0.],\n",
       "       [0., 0., 0., 0., 0.],\n",
       "       [0., 0., 0., 0., 0.]])"
      ]
     },
     "execution_count": 70,
     "metadata": {},
     "output_type": "execute_result"
    }
   ],
   "source": [
    "y_predict = np.zeros((test_input.shape[0], 5))\n",
    "y_predict"
   ]
  },
  {
   "cell_type": "code",
   "execution_count": 71,
   "id": "c94aceda",
   "metadata": {},
   "outputs": [
    {
     "name": "stdout",
     "output_type": "stream",
     "text": [
      "=================================================\n",
      "1번째 교차 학습\n",
      "=================================================\n",
      "Epoch 1/10\n",
      "86/86 [==============================] - 5s 56ms/step - loss: 0.0689 - accuracy: 0.9748 - val_loss: 0.0658 - val_accuracy: 0.9769\n",
      "Epoch 2/10\n",
      "86/86 [==============================] - 5s 56ms/step - loss: 0.0710 - accuracy: 0.9741 - val_loss: 0.0840 - val_accuracy: 0.9697\n",
      "Epoch 3/10\n",
      "86/86 [==============================] - 5s 56ms/step - loss: 0.0612 - accuracy: 0.9774 - val_loss: 0.0928 - val_accuracy: 0.9664\n",
      "Epoch 4/10\n",
      "86/86 [==============================] - 5s 56ms/step - loss: 0.0512 - accuracy: 0.9807 - val_loss: 0.0938 - val_accuracy: 0.9656\n",
      "Epoch 5/10\n",
      "86/86 [==============================] - 5s 56ms/step - loss: 0.0462 - accuracy: 0.9819 - val_loss: 0.0943 - val_accuracy: 0.9665\n",
      "Epoch 6/10\n",
      "86/86 [==============================] - 5s 56ms/step - loss: 0.0410 - accuracy: 0.9832 - val_loss: 0.1078 - val_accuracy: 0.9627\n",
      "Epoch 7/10\n",
      "86/86 [==============================] - 5s 56ms/step - loss: 0.0390 - accuracy: 0.9839 - val_loss: 0.0994 - val_accuracy: 0.9644\n",
      "Epoch 8/10\n",
      "86/86 [==============================] - 5s 56ms/step - loss: 0.0377 - accuracy: 0.9835 - val_loss: 0.1021 - val_accuracy: 0.9640\n",
      "Epoch 9/10\n",
      "86/86 [==============================] - 5s 56ms/step - loss: 0.0364 - accuracy: 0.9841 - val_loss: 0.1042 - val_accuracy: 0.9642\n",
      "Epoch 10/10\n",
      "86/86 [==============================] - 5s 56ms/step - loss: 0.0366 - accuracy: 0.9840 - val_loss: 0.1040 - val_accuracy: 0.9643\n",
      "614/614 [==============================] - 12s 16ms/step\n",
      "=================================================\n",
      "2번째 교차 학습\n",
      "=================================================\n",
      "Epoch 1/10\n",
      "86/86 [==============================] - 5s 56ms/step - loss: 0.0635 - accuracy: 0.9767 - val_loss: 0.0609 - val_accuracy: 0.9769\n",
      "Epoch 2/10\n",
      "86/86 [==============================] - 5s 56ms/step - loss: 0.0674 - accuracy: 0.9750 - val_loss: 0.0738 - val_accuracy: 0.9708\n",
      "Epoch 3/10\n",
      "86/86 [==============================] - 5s 56ms/step - loss: 0.0623 - accuracy: 0.9762 - val_loss: 0.0866 - val_accuracy: 0.9682\n",
      "Epoch 4/10\n",
      "86/86 [==============================] - 5s 56ms/step - loss: 0.0588 - accuracy: 0.9777 - val_loss: 0.0947 - val_accuracy: 0.9677\n",
      "Epoch 5/10\n",
      "86/86 [==============================] - 5s 56ms/step - loss: 0.0489 - accuracy: 0.9805 - val_loss: 0.0942 - val_accuracy: 0.9651\n",
      "Epoch 6/10\n",
      "86/86 [==============================] - 5s 56ms/step - loss: 0.0451 - accuracy: 0.9820 - val_loss: 0.0994 - val_accuracy: 0.9647\n",
      "Epoch 7/10\n",
      "86/86 [==============================] - 5s 56ms/step - loss: 0.0412 - accuracy: 0.9833 - val_loss: 0.0990 - val_accuracy: 0.9643\n",
      "Epoch 8/10\n",
      "86/86 [==============================] - 5s 56ms/step - loss: 0.0400 - accuracy: 0.9836 - val_loss: 0.1050 - val_accuracy: 0.9634\n",
      "Epoch 9/10\n",
      "86/86 [==============================] - 5s 56ms/step - loss: 0.0382 - accuracy: 0.9832 - val_loss: 0.1056 - val_accuracy: 0.9629\n",
      "Epoch 10/10\n",
      "86/86 [==============================] - 5s 57ms/step - loss: 0.0370 - accuracy: 0.9839 - val_loss: 0.1017 - val_accuracy: 0.9646\n",
      "614/614 [==============================] - 10s 16ms/step\n",
      "=================================================\n",
      "3번째 교차 학습\n",
      "=================================================\n",
      "Epoch 1/10\n",
      "86/86 [==============================] - 5s 56ms/step - loss: 0.0663 - accuracy: 0.9759 - val_loss: 0.0575 - val_accuracy: 0.9770\n",
      "Epoch 2/10\n",
      "86/86 [==============================] - 5s 59ms/step - loss: 0.0626 - accuracy: 0.9771 - val_loss: 0.0708 - val_accuracy: 0.9718\n",
      "Epoch 3/10\n",
      "86/86 [==============================] - 5s 56ms/step - loss: 0.0525 - accuracy: 0.9802 - val_loss: 0.0816 - val_accuracy: 0.9701\n",
      "Epoch 4/10\n",
      "86/86 [==============================] - 5s 56ms/step - loss: 0.0480 - accuracy: 0.9814 - val_loss: 0.0802 - val_accuracy: 0.9707\n",
      "Epoch 5/10\n",
      "86/86 [==============================] - 5s 56ms/step - loss: 0.0426 - accuracy: 0.9830 - val_loss: 0.0848 - val_accuracy: 0.9703\n",
      "Epoch 6/10\n",
      "86/86 [==============================] - 5s 56ms/step - loss: 0.0410 - accuracy: 0.9834 - val_loss: 0.0890 - val_accuracy: 0.9677\n",
      "Epoch 7/10\n",
      "86/86 [==============================] - 5s 56ms/step - loss: 0.0410 - accuracy: 0.9831 - val_loss: 0.0939 - val_accuracy: 0.9670\n",
      "Epoch 8/10\n",
      "86/86 [==============================] - 5s 56ms/step - loss: 0.0385 - accuracy: 0.9840 - val_loss: 0.0923 - val_accuracy: 0.9667\n",
      "Epoch 9/10\n",
      "86/86 [==============================] - 5s 56ms/step - loss: 0.0382 - accuracy: 0.9836 - val_loss: 0.0919 - val_accuracy: 0.9677\n",
      "Epoch 10/10\n",
      "86/86 [==============================] - 5s 57ms/step - loss: 0.0360 - accuracy: 0.9842 - val_loss: 0.0962 - val_accuracy: 0.9671\n",
      "614/614 [==============================] - 10s 16ms/step\n",
      "=================================================\n",
      "4번째 교차 학습\n",
      "=================================================\n",
      "Epoch 1/10\n",
      "86/86 [==============================] - 5s 55ms/step - loss: 0.0538 - accuracy: 0.9790 - val_loss: 0.0460 - val_accuracy: 0.9810\n",
      "Epoch 2/10\n",
      "86/86 [==============================] - 5s 55ms/step - loss: 0.0492 - accuracy: 0.9806 - val_loss: 0.0513 - val_accuracy: 0.9785\n",
      "Epoch 3/10\n",
      "86/86 [==============================] - 5s 55ms/step - loss: 0.0440 - accuracy: 0.9822 - val_loss: 0.0584 - val_accuracy: 0.9780\n",
      "Epoch 4/10\n",
      "86/86 [==============================] - 5s 56ms/step - loss: 0.0411 - accuracy: 0.9827 - val_loss: 0.0580 - val_accuracy: 0.9764\n",
      "Epoch 5/10\n",
      "86/86 [==============================] - 5s 55ms/step - loss: 0.0384 - accuracy: 0.9838 - val_loss: 0.0612 - val_accuracy: 0.9759\n",
      "Epoch 6/10\n",
      "86/86 [==============================] - 5s 56ms/step - loss: 0.0374 - accuracy: 0.9838 - val_loss: 0.0603 - val_accuracy: 0.9759\n",
      "Epoch 7/10\n",
      "86/86 [==============================] - 5s 55ms/step - loss: 0.0362 - accuracy: 0.9838 - val_loss: 0.0610 - val_accuracy: 0.9766\n",
      "Epoch 8/10\n",
      "86/86 [==============================] - 5s 56ms/step - loss: 0.0357 - accuracy: 0.9840 - val_loss: 0.0615 - val_accuracy: 0.9761\n",
      "Epoch 9/10\n",
      "86/86 [==============================] - 5s 56ms/step - loss: 0.0353 - accuracy: 0.9837 - val_loss: 0.0620 - val_accuracy: 0.9769\n",
      "Epoch 10/10\n",
      "86/86 [==============================] - 5s 56ms/step - loss: 0.0351 - accuracy: 0.9839 - val_loss: 0.0660 - val_accuracy: 0.9757\n",
      "614/614 [==============================] - 10s 16ms/step\n",
      "=================================================\n",
      "5번째 교차 학습\n",
      "=================================================\n",
      "Epoch 1/10\n",
      "86/86 [==============================] - 5s 56ms/step - loss: 0.0461 - accuracy: 0.9814 - val_loss: 0.0468 - val_accuracy: 0.9802\n",
      "Epoch 2/10\n",
      "86/86 [==============================] - 5s 56ms/step - loss: 0.0489 - accuracy: 0.9800 - val_loss: 0.0589 - val_accuracy: 0.9774\n",
      "Epoch 3/10\n",
      "86/86 [==============================] - 5s 56ms/step - loss: 0.0598 - accuracy: 0.9774 - val_loss: 0.0741 - val_accuracy: 0.9714\n",
      "Epoch 4/10\n",
      "86/86 [==============================] - 5s 56ms/step - loss: 0.0590 - accuracy: 0.9771 - val_loss: 0.0860 - val_accuracy: 0.9678\n",
      "Epoch 5/10\n",
      "86/86 [==============================] - 5s 56ms/step - loss: 0.0551 - accuracy: 0.9780 - val_loss: 0.0939 - val_accuracy: 0.9665\n",
      "Epoch 6/10\n",
      "86/86 [==============================] - 5s 56ms/step - loss: 0.0480 - accuracy: 0.9810 - val_loss: 0.1034 - val_accuracy: 0.9643\n",
      "Epoch 7/10\n",
      "86/86 [==============================] - 5s 56ms/step - loss: 0.0401 - accuracy: 0.9832 - val_loss: 0.0920 - val_accuracy: 0.9685\n",
      "Epoch 8/10\n",
      "86/86 [==============================] - 5s 56ms/step - loss: 0.0368 - accuracy: 0.9836 - val_loss: 0.0904 - val_accuracy: 0.9689\n",
      "Epoch 9/10\n",
      "86/86 [==============================] - 5s 56ms/step - loss: 0.0358 - accuracy: 0.9838 - val_loss: 0.0916 - val_accuracy: 0.9687\n",
      "Epoch 10/10\n",
      "86/86 [==============================] - 5s 56ms/step - loss: 0.0352 - accuracy: 0.9836 - val_loss: 0.0921 - val_accuracy: 0.9694\n",
      "614/614 [==============================] - 10s 16ms/step\n"
     ]
    }
   ],
   "source": [
    "for i, (i_train, i_valid) in enumerate(cv.split(train_input, train_label.argmax(1)), start=1):\n",
    "    print(\"=================================================\")\n",
    "    print(f\"{i}번째 교차 학습\")\n",
    "    print(\"=================================================\")\n",
    "    history = model3.fit(train_input[i_train], train_label[i_train],\n",
    "                    validation_data=(train_input[i_valid], train_label[i_valid]),\n",
    "                    epochs=epoch,\n",
    "                    batch_size=batch_size)\n",
    "    y_predict += model3.predict(test_input) / fold"
   ]
  },
  {
   "cell_type": "code",
   "execution_count": 72,
   "id": "6528df7f",
   "metadata": {},
   "outputs": [
    {
     "data": {
      "text/plain": [
       "array([[3.12201666e-07, 9.99998197e-01, 1.42436724e-06, 6.72363035e-08,\n",
       "        6.60084293e-09],\n",
       "       [6.88104182e-01, 5.15990469e-04, 5.39695671e-06, 6.46327548e-02,\n",
       "        2.46741699e-01],\n",
       "       [5.77781257e-01, 4.14684262e-07, 3.97641607e-05, 9.18780201e-06,\n",
       "        4.22169391e-01],\n",
       "       [3.26084761e-05, 7.50569132e-05, 9.99860361e-01, 3.09851966e-06,\n",
       "        2.88616400e-05],\n",
       "       [4.47398361e-01, 1.56430964e-04, 4.66817318e-01, 1.65293203e-03,\n",
       "        8.39749293e-02]])"
      ]
     },
     "execution_count": 72,
     "metadata": {},
     "output_type": "execute_result"
    }
   ],
   "source": [
    "y_predict[:5]"
   ]
  },
  {
   "cell_type": "code",
   "execution_count": 73,
   "id": "ee2d4f65",
   "metadata": {},
   "outputs": [
    {
     "data": {
      "text/plain": [
       "(19617, 5)"
      ]
     },
     "execution_count": 73,
     "metadata": {},
     "output_type": "execute_result"
    }
   ],
   "source": [
    "y_predict.shape"
   ]
  },
  {
   "cell_type": "code",
   "execution_count": 74,
   "id": "c58b3677",
   "metadata": {},
   "outputs": [
    {
     "data": {
      "text/plain": [
       "0.9703143417835236"
      ]
     },
     "execution_count": 74,
     "metadata": {},
     "output_type": "execute_result"
    }
   ],
   "source": [
    "score = np.mean(history.history[\"val_accuracy\"])\n",
    "score"
   ]
  },
  {
   "cell_type": "markdown",
   "id": "3b424a30",
   "metadata": {},
   "source": [
    "# Submission"
   ]
  },
  {
   "cell_type": "code",
   "execution_count": 75,
   "id": "26f1e8f1",
   "metadata": {},
   "outputs": [
    {
     "data": {
      "text/html": [
       "<div>\n",
       "<style scoped>\n",
       "    .dataframe tbody tr th:only-of-type {\n",
       "        vertical-align: middle;\n",
       "    }\n",
       "\n",
       "    .dataframe tbody tr th {\n",
       "        vertical-align: top;\n",
       "    }\n",
       "\n",
       "    .dataframe thead th {\n",
       "        text-align: right;\n",
       "    }\n",
       "</style>\n",
       "<table border=\"1\" class=\"dataframe\">\n",
       "  <thead>\n",
       "    <tr style=\"text-align: right;\">\n",
       "      <th></th>\n",
       "      <th>index</th>\n",
       "      <th>0</th>\n",
       "      <th>1</th>\n",
       "      <th>2</th>\n",
       "      <th>3</th>\n",
       "      <th>4</th>\n",
       "    </tr>\n",
       "  </thead>\n",
       "  <tbody>\n",
       "    <tr>\n",
       "      <th>0</th>\n",
       "      <td>0</td>\n",
       "      <td>0</td>\n",
       "      <td>0</td>\n",
       "      <td>0</td>\n",
       "      <td>0</td>\n",
       "      <td>0</td>\n",
       "    </tr>\n",
       "    <tr>\n",
       "      <th>1</th>\n",
       "      <td>1</td>\n",
       "      <td>0</td>\n",
       "      <td>0</td>\n",
       "      <td>0</td>\n",
       "      <td>0</td>\n",
       "      <td>0</td>\n",
       "    </tr>\n",
       "  </tbody>\n",
       "</table>\n",
       "</div>"
      ],
      "text/plain": [
       "   index  0  1  2  3  4\n",
       "0      0  0  0  0  0  0\n",
       "1      1  0  0  0  0  0"
      ]
     },
     "execution_count": 75,
     "metadata": {},
     "output_type": "execute_result"
    }
   ],
   "source": [
    "submit = pd.read_csv(path+'sample_submission.csv')\n",
    "submit.head(2)"
   ]
  },
  {
   "cell_type": "code",
   "execution_count": 76,
   "id": "174ede27",
   "metadata": {},
   "outputs": [
    {
     "data": {
      "text/html": [
       "<div>\n",
       "<style scoped>\n",
       "    .dataframe tbody tr th:only-of-type {\n",
       "        vertical-align: middle;\n",
       "    }\n",
       "\n",
       "    .dataframe tbody tr th {\n",
       "        vertical-align: top;\n",
       "    }\n",
       "\n",
       "    .dataframe thead th {\n",
       "        text-align: right;\n",
       "    }\n",
       "</style>\n",
       "<table border=\"1\" class=\"dataframe\">\n",
       "  <thead>\n",
       "    <tr style=\"text-align: right;\">\n",
       "      <th></th>\n",
       "      <th>index</th>\n",
       "      <th>0</th>\n",
       "      <th>1</th>\n",
       "      <th>2</th>\n",
       "      <th>3</th>\n",
       "      <th>4</th>\n",
       "    </tr>\n",
       "  </thead>\n",
       "  <tbody>\n",
       "    <tr>\n",
       "      <th>0</th>\n",
       "      <td>0</td>\n",
       "      <td>3.122017e-07</td>\n",
       "      <td>9.999982e-01</td>\n",
       "      <td>0.000001</td>\n",
       "      <td>6.723630e-08</td>\n",
       "      <td>6.600843e-09</td>\n",
       "    </tr>\n",
       "    <tr>\n",
       "      <th>1</th>\n",
       "      <td>1</td>\n",
       "      <td>6.881042e-01</td>\n",
       "      <td>5.159905e-04</td>\n",
       "      <td>0.000005</td>\n",
       "      <td>6.463275e-02</td>\n",
       "      <td>2.467417e-01</td>\n",
       "    </tr>\n",
       "    <tr>\n",
       "      <th>2</th>\n",
       "      <td>2</td>\n",
       "      <td>5.777813e-01</td>\n",
       "      <td>4.146843e-07</td>\n",
       "      <td>0.000040</td>\n",
       "      <td>9.187802e-06</td>\n",
       "      <td>4.221694e-01</td>\n",
       "    </tr>\n",
       "    <tr>\n",
       "      <th>3</th>\n",
       "      <td>3</td>\n",
       "      <td>3.260848e-05</td>\n",
       "      <td>7.505691e-05</td>\n",
       "      <td>0.999860</td>\n",
       "      <td>3.098520e-06</td>\n",
       "      <td>2.886164e-05</td>\n",
       "    </tr>\n",
       "    <tr>\n",
       "      <th>4</th>\n",
       "      <td>4</td>\n",
       "      <td>4.473984e-01</td>\n",
       "      <td>1.564310e-04</td>\n",
       "      <td>0.466817</td>\n",
       "      <td>1.652932e-03</td>\n",
       "      <td>8.397493e-02</td>\n",
       "    </tr>\n",
       "  </tbody>\n",
       "</table>\n",
       "</div>"
      ],
      "text/plain": [
       "   index             0             1         2             3             4\n",
       "0      0  3.122017e-07  9.999982e-01  0.000001  6.723630e-08  6.600843e-09\n",
       "1      1  6.881042e-01  5.159905e-04  0.000005  6.463275e-02  2.467417e-01\n",
       "2      2  5.777813e-01  4.146843e-07  0.000040  9.187802e-06  4.221694e-01\n",
       "3      3  3.260848e-05  7.505691e-05  0.999860  3.098520e-06  2.886164e-05\n",
       "4      4  4.473984e-01  1.564310e-04  0.466817  1.652932e-03  8.397493e-02"
      ]
     },
     "execution_count": 76,
     "metadata": {},
     "output_type": "execute_result"
    }
   ],
   "source": [
    "submit[['0','1','2','3','4']] = y_predict\n",
    "submit.head(5)"
   ]
  },
  {
   "cell_type": "code",
   "execution_count": 77,
   "id": "877b17a2",
   "metadata": {},
   "outputs": [
    {
     "data": {
      "text/plain": [
       "'novel_writer_data/submit6_0.97.csv'"
      ]
     },
     "execution_count": 77,
     "metadata": {},
     "output_type": "execute_result"
    }
   ],
   "source": [
    "file_name = f\"submit6_{score:.2f}.csv\"\n",
    "path+file_name"
   ]
  },
  {
   "cell_type": "code",
   "execution_count": 78,
   "id": "88549c89",
   "metadata": {},
   "outputs": [],
   "source": [
    "submit.to_csv(path+file_name, index=False, encoding = 'utf-8')"
   ]
  },
  {
   "cell_type": "code",
   "execution_count": null,
   "id": "90f607da",
   "metadata": {},
   "outputs": [],
   "source": []
  }
 ],
 "metadata": {
  "kernelspec": {
   "display_name": "Python 3.8 (NGC 22.09 / TensorFlow 2.9.1) on Backend.AI",
   "language": "python",
   "name": "python3"
  },
  "language_info": {
   "codemirror_mode": {
    "name": "ipython",
    "version": 3
   },
   "file_extension": ".py",
   "mimetype": "text/x-python",
   "name": "python",
   "nbconvert_exporter": "python",
   "pygments_lexer": "ipython3",
   "version": "3.8.10"
  }
 },
 "nbformat": 4,
 "nbformat_minor": 5
}
